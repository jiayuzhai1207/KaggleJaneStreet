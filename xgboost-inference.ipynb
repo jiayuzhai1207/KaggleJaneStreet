{
 "cells": [
  {
   "cell_type": "code",
   "execution_count": 1,
   "metadata": {
    "_cell_guid": "b1076dfc-b9ad-4769-8c92-a6c4dae69d19",
    "_uuid": "8f2839f25d086af736a60e9eeb907d3b93b6e0e5",
    "execution": {
     "iopub.execute_input": "2021-01-25T01:32:50.286451Z",
     "iopub.status.busy": "2021-01-25T01:32:50.285620Z",
     "iopub.status.idle": "2021-01-25T01:40:23.440651Z",
     "shell.execute_reply": "2021-01-25T01:40:23.439563Z"
    },
    "papermill": {
     "duration": 453.171498,
     "end_time": "2021-01-25T01:40:23.440807",
     "exception": false,
     "start_time": "2021-01-25T01:32:50.269309",
     "status": "completed"
    },
    "tags": []
   },
   "outputs": [
    {
     "name": "stdout",
     "output_type": "stream",
     "text": [
      "Finished training model\n"
     ]
    }
   ],
   "source": [
    "import gc\n",
    "from time import time\n",
    "import multiprocessing\n",
    "\n",
    "import numpy as np\n",
    "import pandas as pd\n",
    "\n",
    "import xgboost as xgb\n",
    "import janestreet\n",
    "\n",
    "# Load data\n",
    "data = pd.read_csv('/kaggle/input/jane-street-market-prediction/train.csv')\n",
    "data=data[data.weight!=0]\n",
    "\n",
    "# Settings\n",
    "NAN_VALUE = -9999\n",
    "features = [c for c in data.columns if 'feature' in c]\n",
    "target = 'resp'\n",
    "\n",
    "# Split into features X and target Y\n",
    "X = data.loc[:, features].fillna(NAN_VALUE)\n",
    "Y = (data.loc[:, target] > 0).astype(int)\n",
    "\n",
    "# Clear memory\n",
    "del data\n",
    "gc.collect()\n",
    "\n",
    "# Train model\n",
    "model = xgb.XGBClassifier(\n",
    "    n_estimators=xx, #放进前面的params\n",
    "    max_depth=xx,\n",
    "    learning_rate=xx,\n",
    "    subsample=xx,\n",
    "    colsample_bytree=xx,\n",
    "    random_state=xx, # any integer就是random seed 常用42\n",
    "    tree_method='gpu_hist',\n",
    "    gamma=xx,\n",
    "    nthread=multiprocessing.cpu_count()\n",
    ")\n",
    "model.fit(X, Y)\n",
    "print('Finished training model')\n",
    "\n",
    "# Clear memory\n",
    "del X, Y\n",
    "gc.collect()\n",
    "\n",
    "# Create submission\n",
    "env = janestreet.make_env()\n",
    "iter_test = env.iter_test()\n",
    "for (test_df, sample_prediction_df) in iter_test: \n",
    "    X_test = test_df.loc[:, features]\n",
    "    X_test = X_test.fillna(NAN_VALUE)\n",
    "    sample_prediction_df.action = model.predict(X_test)\n",
    "    env.predict(sample_prediction_df)"
   ]
  },
  {
   "cell_type": "code",
   "execution_count": null,
   "metadata": {
    "_cell_guid": "79c7e3d0-c299-4dcb-8224-4455121ee9b0",
    "_uuid": "d629ff2d2480ee46fbb7e2d37f6b5fab8052498a",
    "collapsed": true,
    "papermill": {
     "duration": 0.002391,
     "end_time": "2021-01-25T01:40:23.446399",
     "exception": false,
     "start_time": "2021-01-25T01:40:23.444008",
     "status": "completed"
    },
    "tags": []
   },
   "outputs": [],
   "source": []
  }
 ],
 "metadata": {
  "kernelspec": {
   "display_name": "Python 3",
   "language": "python",
   "name": "python3"
  },
  "language_info": {
   "codemirror_mode": {
    "name": "ipython",
    "version": 3
   },
   "file_extension": ".py",
   "mimetype": "text/x-python",
   "name": "python",
   "nbconvert_exporter": "python",
   "pygments_lexer": "ipython3",
   "version": "3.8.3"
  },
  "papermill": {
   "duration": 457.661011,
   "end_time": "2021-01-25T01:40:23.860408",
   "environment_variables": {},
   "exception": null,
   "input_path": "__notebook__.ipynb",
   "output_path": "__notebook__.ipynb",
   "parameters": {},
   "start_time": "2021-01-25T01:32:46.199397",
   "version": "2.1.0"
  }
 },
 "nbformat": 4,
 "nbformat_minor": 4
}
