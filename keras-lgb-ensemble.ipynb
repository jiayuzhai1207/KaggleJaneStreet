{
 "cells": [
  {
   "cell_type": "code",
   "execution_count": 1,
   "metadata": {
    "execution": {
     "iopub.execute_input": "2021-02-16T01:22:20.925036Z",
     "iopub.status.busy": "2021-02-16T01:22:20.924353Z",
     "iopub.status.idle": "2021-02-16T01:22:20.927427Z",
     "shell.execute_reply": "2021-02-16T01:22:20.926832Z"
    },
    "papermill": {
     "duration": 0.016872,
     "end_time": "2021-02-16T01:22:20.927579",
     "exception": false,
     "start_time": "2021-02-16T01:22:20.910707",
     "status": "completed"
    },
    "tags": []
   },
   "outputs": [],
   "source": [
    "#keras"
   ]
  },
  {
   "cell_type": "code",
   "execution_count": 2,
   "metadata": {
    "execution": {
     "iopub.execute_input": "2021-02-16T01:22:20.951630Z",
     "iopub.status.busy": "2021-02-16T01:22:20.951126Z",
     "iopub.status.idle": "2021-02-16T01:22:26.721521Z",
     "shell.execute_reply": "2021-02-16T01:22:26.724352Z"
    },
    "papermill": {
     "duration": 5.787861,
     "end_time": "2021-02-16T01:22:26.724515",
     "exception": false,
     "start_time": "2021-02-16T01:22:20.936654",
     "status": "completed"
    },
    "tags": []
   },
   "outputs": [],
   "source": [
    "from tensorflow.keras.layers import Input, Dense, BatchNormalization, Dropout, Concatenate, Lambda, GaussianNoise, Activation\n",
    "from tensorflow.keras.models import Model, Sequential\n",
    "from tensorflow.keras.losses import BinaryCrossentropy\n",
    "from tensorflow.keras.optimizers import Adam\n",
    "from tensorflow.keras.callbacks import EarlyStopping\n",
    "from tensorflow.keras.layers.experimental.preprocessing import Normalization\n",
    "import tensorflow as tf\n",
    "import numpy as np\n",
    "import pandas as pd\n",
    "from sklearn.model_selection import GroupKFold\n",
    "\n",
    "from tqdm import tqdm\n",
    "from random import choices\n",
    "import random\n",
    "\n",
    "import kerastuner as kt"
   ]
  },
  {
   "cell_type": "code",
   "execution_count": 3,
   "metadata": {
    "execution": {
     "iopub.execute_input": "2021-02-16T01:22:26.765180Z",
     "iopub.status.busy": "2021-02-16T01:22:26.764302Z",
     "iopub.status.idle": "2021-02-16T01:22:26.794547Z",
     "shell.execute_reply": "2021-02-16T01:22:26.795050Z"
    },
    "papermill": {
     "duration": 0.057206,
     "end_time": "2021-02-16T01:22:26.795213",
     "exception": false,
     "start_time": "2021-02-16T01:22:26.738007",
     "status": "completed"
    },
    "tags": []
   },
   "outputs": [],
   "source": [
    "keras_f_mean = np.load('../input/npyfolder/keras_f_mean_online.npy')"
   ]
  },
  {
   "cell_type": "code",
   "execution_count": 4,
   "metadata": {
    "execution": {
     "iopub.execute_input": "2021-02-16T01:22:26.831129Z",
     "iopub.status.busy": "2021-02-16T01:22:26.830477Z",
     "iopub.status.idle": "2021-02-16T01:22:26.833854Z",
     "shell.execute_reply": "2021-02-16T01:22:26.835012Z"
    },
    "papermill": {
     "duration": 0.026555,
     "end_time": "2021-02-16T01:22:26.835169",
     "exception": false,
     "start_time": "2021-02-16T01:22:26.808614",
     "status": "completed"
    },
    "tags": []
   },
   "outputs": [],
   "source": [
    "def create_autoencoder(input_dim,output_dim,noise=0.05):\n",
    "    i = Input(input_dim)\n",
    "    encoded = BatchNormalization()(i)\n",
    "    encoded = GaussianNoise(noise)(encoded)\n",
    "    encoded = Dense(64,activation='relu')(encoded)\n",
    "    decoded = Dropout(0.2)(encoded)\n",
    "    decoded = Dense(input_dim,name='decoded')(decoded)\n",
    "    x = Dense(32,activation='relu')(decoded)\n",
    "    x = BatchNormalization()(x)\n",
    "    x = Dropout(0.2)(x)\n",
    "    x = Dense(output_dim,activation='sigmoid',name='label_output')(x)\n",
    "    \n",
    "    encoder = Model(inputs=i,outputs=decoded)\n",
    "    autoencoder = Model(inputs=i,outputs=[decoded,x])\n",
    "    \n",
    "    autoencoder.compile(optimizer=Adam(0.001),loss={'decoded':'mse','label_output':'binary_crossentropy'})\n",
    "    return autoencoder, encoder"
   ]
  },
  {
   "cell_type": "code",
   "execution_count": 5,
   "metadata": {
    "execution": {
     "iopub.execute_input": "2021-02-16T01:22:26.871735Z",
     "iopub.status.busy": "2021-02-16T01:22:26.871081Z",
     "iopub.status.idle": "2021-02-16T01:22:26.874533Z",
     "shell.execute_reply": "2021-02-16T01:22:26.875377Z"
    },
    "papermill": {
     "duration": 0.027135,
     "end_time": "2021-02-16T01:22:26.875542",
     "exception": false,
     "start_time": "2021-02-16T01:22:26.848407",
     "status": "completed"
    },
    "tags": []
   },
   "outputs": [],
   "source": [
    "def create_model(hp,input_dim,output_dim,encoder):\n",
    "    inputs = Input(input_dim)\n",
    "    \n",
    "    x = encoder(inputs)\n",
    "    x = Concatenate()([x,inputs]) #use both raw and encoded features\n",
    "    x = BatchNormalization()(x)\n",
    "    x = Dropout(hp.Float('init_dropout',0.0,0.5))(x)\n",
    "    \n",
    "    for i in range(hp.Int('num_layers',1,3)):\n",
    "        x = Dense(hp.Int(f'num_units_{i}',64,256))(x) # f\n",
    "        x = BatchNormalization()(x)\n",
    "        x = Lambda(tf.keras.activations.swish)(x)\n",
    "        x = Dropout(hp.Float(f'dropout_{i}',0.0,0.5))(x)\n",
    "    x = Dense(output_dim,activation='sigmoid')(x)\n",
    "    model = Model(inputs=inputs,outputs=x)\n",
    "    model.compile(optimizer=Adam(hp.Float('lr',0.00001,0.1,default=0.001)),loss=BinaryCrossentropy(label_smoothing=hp.Float('label_smoothing',0.0,0.1)),metrics=[tf.keras.metrics.AUC(name = 'auc')])\n",
    "    return model"
   ]
  },
  {
   "cell_type": "code",
   "execution_count": 6,
   "metadata": {
    "execution": {
     "iopub.execute_input": "2021-02-16T01:22:26.910194Z",
     "iopub.status.busy": "2021-02-16T01:22:26.909503Z",
     "iopub.status.idle": "2021-02-16T01:22:29.646376Z",
     "shell.execute_reply": "2021-02-16T01:22:29.645380Z"
    },
    "papermill": {
     "duration": 2.756716,
     "end_time": "2021-02-16T01:22:29.646519",
     "exception": false,
     "start_time": "2021-02-16T01:22:26.889803",
     "status": "completed"
    },
    "tags": []
   },
   "outputs": [],
   "source": [
    "autoencoder, encoder = create_autoencoder(130,5,noise=0.1) \n",
    "encoder.load_weights('../input/modelfolder/encoder.hdf5')\n",
    "encoder.trainable = False"
   ]
  },
  {
   "cell_type": "code",
   "execution_count": 7,
   "metadata": {
    "execution": {
     "iopub.execute_input": "2021-02-16T01:22:29.672472Z",
     "iopub.status.busy": "2021-02-16T01:22:29.671843Z",
     "iopub.status.idle": "2021-02-16T01:22:30.525893Z",
     "shell.execute_reply": "2021-02-16T01:22:30.525160Z"
    },
    "papermill": {
     "duration": 0.868236,
     "end_time": "2021-02-16T01:22:30.526072",
     "exception": false,
     "start_time": "2021-02-16T01:22:29.657836",
     "status": "completed"
    },
    "tags": []
   },
   "outputs": [],
   "source": [
    "model_fn = lambda hp: create_model(hp,130,5,encoder)\n",
    "\n",
    "FOLDS =xx\n",
    "SEED = xx\n",
    "\n",
    "keras_models = []\n",
    "hp = pd.read_pickle(f'../input/modelfolder/best_hp_{SEED}.pkl')\n",
    "for f in range(FOLDS):\n",
    "    model = model_fn(hp)\n",
    "    model.load_weights(f'../input/modelfolder/model_{SEED}_{f}_finetune.hdf5')\n",
    "    keras_models.append(model)"
   ]
  },
  {
   "cell_type": "code",
   "execution_count": 8,
   "metadata": {
    "execution": {
     "iopub.execute_input": "2021-02-16T01:22:30.550950Z",
     "iopub.status.busy": "2021-02-16T01:22:30.549203Z",
     "iopub.status.idle": "2021-02-16T01:22:30.551532Z",
     "shell.execute_reply": "2021-02-16T01:22:30.551950Z"
    },
    "papermill": {
     "duration": 0.016091,
     "end_time": "2021-02-16T01:22:30.552073",
     "exception": false,
     "start_time": "2021-02-16T01:22:30.535982",
     "status": "completed"
    },
    "tags": []
   },
   "outputs": [],
   "source": [
    "keras_model= keras_models[-2:]"
   ]
  },
  {
   "cell_type": "code",
   "execution_count": 9,
   "metadata": {
    "execution": {
     "iopub.execute_input": "2021-02-16T01:22:30.575667Z",
     "iopub.status.busy": "2021-02-16T01:22:30.575087Z",
     "iopub.status.idle": "2021-02-16T01:22:30.673050Z",
     "shell.execute_reply": "2021-02-16T01:22:30.672549Z"
    },
    "papermill": {
     "duration": 0.111536,
     "end_time": "2021-02-16T01:22:30.673166",
     "exception": false,
     "start_time": "2021-02-16T01:22:30.561630",
     "status": "completed"
    },
    "tags": []
   },
   "outputs": [
    {
     "data": {
      "text/html": [
       "<style type='text/css'>\n",
       ".datatable table.frame { margin-bottom: 0; }\n",
       ".datatable table.frame thead { border-bottom: none; }\n",
       ".datatable table.frame tr.coltypes td {  color: #FFFFFF;  line-height: 6px;  padding: 0 0.5em;}\n",
       ".datatable .bool    { background: #DDDD99; }\n",
       ".datatable .object  { background: #565656; }\n",
       ".datatable .int     { background: #5D9E5D; }\n",
       ".datatable .float   { background: #4040CC; }\n",
       ".datatable .str     { background: #CC4040; }\n",
       ".datatable .row_index {  background: var(--jp-border-color3);  border-right: 1px solid var(--jp-border-color0);  color: var(--jp-ui-font-color3);  font-size: 9px;}\n",
       ".datatable .frame tr.coltypes .row_index {  background: var(--jp-border-color0);}\n",
       ".datatable th:nth-child(2) { padding-left: 12px; }\n",
       ".datatable .hellipsis {  color: var(--jp-cell-editor-border-color);}\n",
       ".datatable .vellipsis {  background: var(--jp-layout-color0);  color: var(--jp-cell-editor-border-color);}\n",
       ".datatable .na {  color: var(--jp-cell-editor-border-color);  font-size: 80%;}\n",
       ".datatable .footer { font-size: 9px; }\n",
       ".datatable .frame_dimensions {  background: var(--jp-border-color3);  border-top: 1px solid var(--jp-border-color0);  color: var(--jp-ui-font-color3);  display: inline-block;  opacity: 0.6;  padding: 1px 10px 1px 5px;}\n",
       "</style>\n"
      ],
      "text/plain": [
       "<IPython.core.display.HTML object>"
      ]
     },
     "metadata": {},
     "output_type": "display_data"
    }
   ],
   "source": [
    "#lgb\n",
    "import random\n",
    "import numpy as np\n",
    "import pandas as pd\n",
    "from tqdm import tqdm\n",
    "from random import choices\n",
    "from sklearn.model_selection import train_test_split\n",
    "import lightgbm as lgbm"
   ]
  },
  {
   "cell_type": "code",
   "execution_count": 10,
   "metadata": {
    "execution": {
     "iopub.execute_input": "2021-02-16T01:22:30.699186Z",
     "iopub.status.busy": "2021-02-16T01:22:30.697888Z",
     "iopub.status.idle": "2021-02-16T01:22:30.701079Z",
     "shell.execute_reply": "2021-02-16T01:22:30.700639Z"
    },
    "papermill": {
     "duration": 0.01745,
     "end_time": "2021-02-16T01:22:30.701185",
     "exception": false,
     "start_time": "2021-02-16T01:22:30.683735",
     "status": "completed"
    },
    "tags": []
   },
   "outputs": [],
   "source": [
    "feat_cols = [f'feature_{i}' for i in range(130)]\n",
    "features = [col for col in feat_cols]\n",
    "features.extend(['feature_stock_id_sum', 'feature_1_2_cross'])"
   ]
  },
  {
   "cell_type": "code",
   "execution_count": 11,
   "metadata": {
    "execution": {
     "iopub.execute_input": "2021-02-16T01:22:30.725811Z",
     "iopub.status.busy": "2021-02-16T01:22:30.725283Z",
     "iopub.status.idle": "2021-02-16T01:22:31.837185Z",
     "shell.execute_reply": "2021-02-16T01:22:31.838024Z"
    },
    "papermill": {
     "duration": 1.126843,
     "end_time": "2021-02-16T01:22:31.838205",
     "exception": false,
     "start_time": "2021-02-16T01:22:30.711362",
     "status": "completed"
    },
    "tags": []
   },
   "outputs": [],
   "source": [
    "import os, sys, gc, time, warnings, pickle, psutil, random\n",
    "lgb_models = []\n",
    "for i in range(5):\n",
    "    model_path = '../input/modelfolder/lgb_model_'+str(i)+'.bin' \n",
    "    clf = pickle.load(open(model_path, 'rb'))\n",
    "    lgb_models.append(clf)"
   ]
  },
  {
   "cell_type": "code",
   "execution_count": 12,
   "metadata": {
    "execution": {
     "iopub.execute_input": "2021-02-16T01:22:31.865412Z",
     "iopub.status.busy": "2021-02-16T01:22:31.864868Z",
     "iopub.status.idle": "2021-02-16T01:22:31.902382Z",
     "shell.execute_reply": "2021-02-16T01:22:31.901810Z"
    },
    "papermill": {
     "duration": 0.05187,
     "end_time": "2021-02-16T01:22:31.902497",
     "exception": false,
     "start_time": "2021-02-16T01:22:31.850627",
     "status": "completed"
    },
    "tags": []
   },
   "outputs": [],
   "source": [
    "import janestreet\n",
    "env = janestreet.make_env()\n",
    "env_iter = env.iter_test()"
   ]
  },
  {
   "cell_type": "code",
   "execution_count": 13,
   "metadata": {
    "execution": {
     "iopub.execute_input": "2021-02-16T01:22:31.930038Z",
     "iopub.status.busy": "2021-02-16T01:22:31.929491Z",
     "iopub.status.idle": "2021-02-16T01:22:31.933531Z",
     "shell.execute_reply": "2021-02-16T01:22:31.932894Z"
    },
    "papermill": {
     "duration": 0.019016,
     "end_time": "2021-02-16T01:22:31.933646",
     "exception": false,
     "start_time": "2021-02-16T01:22:31.914630",
     "status": "completed"
    },
    "tags": []
   },
   "outputs": [],
   "source": [
    "test_df_columns = ['weight'] + [f'feature_{i}' for i in range(130)] + ['date']\n",
    "index_features = [n for n, col in enumerate(test_df_columns) if col in feat_cols]"
   ]
  },
  {
   "cell_type": "code",
   "execution_count": 14,
   "metadata": {
    "execution": {
     "iopub.execute_input": "2021-02-16T01:22:31.962446Z",
     "iopub.status.busy": "2021-02-16T01:22:31.961913Z",
     "iopub.status.idle": "2021-02-16T01:27:54.486874Z",
     "shell.execute_reply": "2021-02-16T01:27:54.487364Z"
    },
    "papermill": {
     "duration": 322.543391,
     "end_time": "2021-02-16T01:27:54.487529",
     "exception": false,
     "start_time": "2021-02-16T01:22:31.944138",
     "status": "completed"
    },
    "tags": []
   },
   "outputs": [
    {
     "name": "stderr",
     "output_type": "stream",
     "text": [
      "15219it [05:22, 47.19it/s] \n"
     ]
    }
   ],
   "source": [
    "import gc\n",
    "for (test_df, pred_df) in tqdm(env_iter):\n",
    "    if test_df['weight'].values[0]>0:\n",
    "        #keras\n",
    "        keras_x_tt = test_df.values[0][index_features].reshape(1, -1)\n",
    "        if np.isnan(keras_x_tt.sum()):\n",
    "            keras_x_tt = np.nan_to_num(keras_x_tt) + np.isnan(keras_x_tt) * keras_f_mean\n",
    "        keras_pred = np.mean([model(keras_x_tt, training = False).numpy() for model in keras_model],axis=0)\n",
    "        keras_pred =  np.median(keras_pred)\n",
    "        #lgb_pred\n",
    "        test_df['feature_stock_id_sum'] = test_df['feature_41'] + test_df['feature_42'] + test_df['feature_43']\n",
    "        test_df['feature_1_2_cross'] = test_df['feature_1']/(test_df['feature_2']+1e-5)\n",
    "        test_df.fillna(-9999,inplace=True)\n",
    "        lgb_x_tt = test_df.loc[:, features].values\n",
    "        lgb_pred = np.median([model.predict(lgb_x_tt) for model in lgb_models])\n",
    "        # final_pred\n",
    "        final_pred=0.5*keras_pred+0.5*lgb_pred # adjust weight\n",
    "        pred_df.action = int(final_pred >= 0.5) #0.499,0.501\n",
    "    else:\n",
    "        pred_df['action'].values[0] = 0\n",
    "    env.predict(pred_df)"
   ]
  },
  {
   "cell_type": "code",
   "execution_count": null,
   "metadata": {
    "papermill": {
     "duration": 0.700941,
     "end_time": "2021-02-16T01:27:55.854072",
     "exception": false,
     "start_time": "2021-02-16T01:27:55.153131",
     "status": "completed"
    },
    "tags": []
   },
   "outputs": [],
   "source": []
  },
  {
   "cell_type": "code",
   "execution_count": null,
   "metadata": {
    "papermill": {
     "duration": 0.706905,
     "end_time": "2021-02-16T01:27:57.433361",
     "exception": false,
     "start_time": "2021-02-16T01:27:56.726456",
     "status": "completed"
    },
    "tags": []
   },
   "outputs": [],
   "source": []
  },
  {
   "cell_type": "code",
   "execution_count": null,
   "metadata": {
    "papermill": {
     "duration": 0.659843,
     "end_time": "2021-02-16T01:27:58.755862",
     "exception": false,
     "start_time": "2021-02-16T01:27:58.096019",
     "status": "completed"
    },
    "tags": []
   },
   "outputs": [],
   "source": []
  }
 ],
 "metadata": {
  "kernelspec": {
   "display_name": "Python 3",
   "language": "python",
   "name": "python3"
  },
  "language_info": {
   "codemirror_mode": {
    "name": "ipython",
    "version": 3
   },
   "file_extension": ".py",
   "mimetype": "text/x-python",
   "name": "python",
   "nbconvert_exporter": "python",
   "pygments_lexer": "ipython3",
   "version": "3.7.3"
  },
  "papermill": {
   "default_parameters": {},
   "duration": 345.885113,
   "end_time": "2021-02-16T01:28:01.900903",
   "environment_variables": {},
   "exception": null,
   "input_path": "__notebook__.ipynb",
   "output_path": "__notebook__.ipynb",
   "parameters": {},
   "start_time": "2021-02-16T01:22:16.015790",
   "version": "2.2.2"
  }
 },
 "nbformat": 4,
 "nbformat_minor": 4
}
