{
 "cells": [
  {
   "cell_type": "code",
   "execution_count": 1,
   "metadata": {
    "_cell_guid": "b1076dfc-b9ad-4769-8c92-a6c4dae69d19",
    "_uuid": "8f2839f25d086af736a60e9eeb907d3b93b6e0e5",
    "execution": {
     "iopub.execute_input": "2021-02-14T07:12:18.561887Z",
     "iopub.status.busy": "2021-02-14T07:12:18.560934Z",
     "iopub.status.idle": "2021-02-14T07:12:18.564081Z",
     "shell.execute_reply": "2021-02-14T07:12:18.563465Z"
    },
    "papermill": {
     "duration": 0.017173,
     "end_time": "2021-02-14T07:12:18.564201",
     "exception": false,
     "start_time": "2021-02-14T07:12:18.547028",
     "status": "completed"
    },
    "tags": []
   },
   "outputs": [],
   "source": [
    "import numpy as np # linear algebra\n",
    "import pandas as pd # data processing, CSV file I/O (e.g. pd.read_csv)\n"
   ]
  },
  {
   "cell_type": "code",
   "execution_count": 2,
   "metadata": {
    "execution": {
     "iopub.execute_input": "2021-02-14T07:12:18.588665Z",
     "iopub.status.busy": "2021-02-14T07:12:18.587838Z",
     "iopub.status.idle": "2021-02-14T07:12:24.414517Z",
     "shell.execute_reply": "2021-02-14T07:12:24.412886Z"
    },
    "papermill": {
     "duration": 5.842287,
     "end_time": "2021-02-14T07:12:24.414649",
     "exception": false,
     "start_time": "2021-02-14T07:12:18.572362",
     "status": "completed"
    },
    "tags": []
   },
   "outputs": [],
   "source": [
    "import numpy as np # linear algebra\n",
    "import pandas as pd\n",
    "from tensorflow.keras.layers import Input, Dense, BatchNormalization, Dropout, Concatenate, Lambda, GaussianNoise, Activation\n",
    "from tensorflow.keras.models import Model, Sequential\n",
    "from tensorflow.keras.losses import BinaryCrossentropy\n",
    "from tensorflow.keras.optimizers import Adam\n",
    "from tensorflow.keras.callbacks import EarlyStopping\n",
    "from tensorflow.keras.layers.experimental.preprocessing import Normalization\n",
    "import tensorflow as tf\n",
    "import numpy as np\n",
    "import pandas as pd\n",
    "from sklearn.model_selection import GroupKFold\n",
    "\n",
    "from tqdm import tqdm\n",
    "from random import choices\n",
    "import random\n",
    "\n",
    "import kerastuner as kt"
   ]
  },
  {
   "cell_type": "code",
   "execution_count": 3,
   "metadata": {
    "execution": {
     "iopub.execute_input": "2021-02-14T07:12:24.446125Z",
     "iopub.status.busy": "2021-02-14T07:12:24.445102Z",
     "iopub.status.idle": "2021-02-14T07:14:55.162355Z",
     "shell.execute_reply": "2021-02-14T07:14:55.161108Z"
    },
    "papermill": {
     "duration": 150.739524,
     "end_time": "2021-02-14T07:14:55.162514",
     "exception": false,
     "start_time": "2021-02-14T07:12:24.422990",
     "status": "completed"
    },
    "tags": []
   },
   "outputs": [],
   "source": [
    "train = pd.read_csv('../input/jane-street-market-prediction/train.csv')\n",
    "train = train.query('date > 85').reset_index(drop = True) \n",
    "train = train.astype({c: np.float32 for c in train.select_dtypes(include='float64').columns}) \n",
    "train = train.query('weight > 0').reset_index(drop = True)"
   ]
  },
  {
   "cell_type": "code",
   "execution_count": 4,
   "metadata": {
    "execution": {
     "iopub.execute_input": "2021-02-14T07:14:55.185149Z",
     "iopub.status.busy": "2021-02-14T07:14:55.183631Z",
     "iopub.status.idle": "2021-02-14T07:14:55.185880Z",
     "shell.execute_reply": "2021-02-14T07:14:55.186378Z"
    },
    "papermill": {
     "duration": 0.015865,
     "end_time": "2021-02-14T07:14:55.186518",
     "exception": false,
     "start_time": "2021-02-14T07:14:55.170653",
     "status": "completed"
    },
    "tags": []
   },
   "outputs": [],
   "source": [
    "features = [c for c in train.columns if 'feature' in c]"
   ]
  },
  {
   "cell_type": "code",
   "execution_count": 5,
   "metadata": {
    "execution": {
     "iopub.execute_input": "2021-02-14T07:14:55.453462Z",
     "iopub.status.busy": "2021-02-14T07:14:55.452507Z",
     "iopub.status.idle": "2021-02-14T07:14:57.866829Z",
     "shell.execute_reply": "2021-02-14T07:14:57.868030Z"
    },
    "papermill": {
     "duration": 2.673456,
     "end_time": "2021-02-14T07:14:57.868239",
     "exception": false,
     "start_time": "2021-02-14T07:14:55.194783",
     "status": "completed"
    },
    "tags": []
   },
   "outputs": [],
   "source": [
    "CACHE_PATH = './'\n",
    "df = train[features]\n",
    "f_mean = df.median()  # df.mean()\n",
    "f_mean = f_mean.values\n",
    "np.save(f'{CACHE_PATH}/keras_f_mean_online.npy', f_mean)"
   ]
  }
 ],
 "metadata": {
  "kernelspec": {
   "display_name": "Python 3",
   "language": "python",
   "name": "python3"
  },
  "language_info": {
   "codemirror_mode": {
    "name": "ipython",
    "version": 3
   },
   "file_extension": ".py",
   "mimetype": "text/x-python",
   "name": "python",
   "nbconvert_exporter": "python",
   "pygments_lexer": "ipython3",
   "version": "3.7.3"
  },
  "papermill": {
   "duration": 167.637983,
   "end_time": "2021-02-14T07:15:01.910351",
   "environment_variables": {},
   "exception": null,
   "input_path": "__notebook__.ipynb",
   "output_path": "__notebook__.ipynb",
   "parameters": {},
   "start_time": "2021-02-14T07:12:14.272368",
   "version": "2.1.0"
  }
 },
 "nbformat": 4,
 "nbformat_minor": 4
}
