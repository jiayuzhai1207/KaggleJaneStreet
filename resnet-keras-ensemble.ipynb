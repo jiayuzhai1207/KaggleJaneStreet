{
 "cells": [
  {
   "cell_type": "code",
   "execution_count": 1,
   "metadata": {
    "_cell_guid": "b1076dfc-b9ad-4769-8c92-a6c4dae69d19",
    "_uuid": "8f2839f25d086af736a60e9eeb907d3b93b6e0e5",
    "execution": {
     "iopub.execute_input": "2021-02-14T11:24:46.962379Z",
     "iopub.status.busy": "2021-02-14T11:24:46.961506Z",
     "iopub.status.idle": "2021-02-14T11:24:46.964140Z",
     "shell.execute_reply": "2021-02-14T11:24:46.964580Z"
    },
    "papermill": {
     "duration": 0.020746,
     "end_time": "2021-02-14T11:24:46.964856",
     "exception": false,
     "start_time": "2021-02-14T11:24:46.944110",
     "status": "completed"
    },
    "tags": []
   },
   "outputs": [],
   "source": [
    "#resnet"
   ]
  },
  {
   "cell_type": "code",
   "execution_count": 2,
   "metadata": {
    "execution": {
     "iopub.execute_input": "2021-02-14T11:24:46.995041Z",
     "iopub.status.busy": "2021-02-14T11:24:46.994329Z",
     "iopub.status.idle": "2021-02-14T11:24:49.477033Z",
     "shell.execute_reply": "2021-02-14T11:24:49.475912Z"
    },
    "papermill": {
     "duration": 2.500219,
     "end_time": "2021-02-14T11:24:49.477197",
     "exception": false,
     "start_time": "2021-02-14T11:24:46.976978",
     "status": "completed"
    },
    "tags": []
   },
   "outputs": [],
   "source": [
    "import os\n",
    "import time\n",
    "import pickle\n",
    "import random\n",
    "import numpy as np\n",
    "import pandas as pd\n",
    "from tqdm import tqdm\n",
    "from sklearn.metrics import log_loss, roc_auc_score\n",
    "\n",
    "import torch\n",
    "import torch.nn as nn\n",
    "from torch.autograd import Variable\n",
    "from torch.utils.data import DataLoader\n",
    "from torch.nn import CrossEntropyLoss, MSELoss\n",
    "from torch.nn.modules.loss import _WeightedLoss\n",
    "import torch.nn.functional as F"
   ]
  },
  {
   "cell_type": "code",
   "execution_count": 3,
   "metadata": {
    "execution": {
     "iopub.execute_input": "2021-02-14T11:24:49.507750Z",
     "iopub.status.busy": "2021-02-14T11:24:49.507120Z",
     "iopub.status.idle": "2021-02-14T11:24:49.520352Z",
     "shell.execute_reply": "2021-02-14T11:24:49.519858Z"
    },
    "papermill": {
     "duration": 0.030983,
     "end_time": "2021-02-14T11:24:49.520493",
     "exception": false,
     "start_time": "2021-02-14T11:24:49.489510",
     "status": "completed"
    },
    "tags": []
   },
   "outputs": [],
   "source": [
    "NFOLDS = 5\n",
    "\n",
    "CACHE_PATH = '../input/modelfolder'\n",
    "\n",
    "feat_cols = [f'feature_{i}' for i in range(130)]\n",
    "\n",
    "target_cols = ['action', 'action_1', 'action_2', 'action_3', 'action_4']\n",
    "\n",
    "f_mean = np.load(f'{CACHE_PATH}/f_mean_online.npy')\n",
    "\n",
    "all_feat_cols = [col for col in feat_cols]\n",
    "all_feat_cols.extend(['cross_41_42_43', 'cross_1_2'])"
   ]
  },
  {
   "cell_type": "code",
   "execution_count": 4,
   "metadata": {
    "execution": {
     "iopub.execute_input": "2021-02-14T11:24:49.557631Z",
     "iopub.status.busy": "2021-02-14T11:24:49.552115Z",
     "iopub.status.idle": "2021-02-14T11:24:49.562206Z",
     "shell.execute_reply": "2021-02-14T11:24:49.561725Z"
    },
    "papermill": {
     "duration": 0.029853,
     "end_time": "2021-02-14T11:24:49.562323",
     "exception": false,
     "start_time": "2021-02-14T11:24:49.532470",
     "status": "completed"
    },
    "tags": []
   },
   "outputs": [],
   "source": [
    "class Model(nn.Module):\n",
    "    def __init__(self):\n",
    "        super(Model, self).__init__()\n",
    "        self.batch_norm0 = nn.BatchNorm1d(len(all_feat_cols))\n",
    "        self.dropout0 = nn.Dropout(xx)\n",
    "\n",
    "        dropout_rate = xx\n",
    "        hidden_size = xx\n",
    "        self.dense1 = nn.Linear(len(all_feat_cols), hidden_size)\n",
    "        self.batch_norm1 = nn.BatchNorm1d(hidden_size)\n",
    "        self.dropout1 = nn.Dropout(dropout_rate)\n",
    "\n",
    "        self.dense2 = nn.Linear(hidden_size+len(all_feat_cols), hidden_size)\n",
    "        self.batch_norm2 = nn.BatchNorm1d(hidden_size)\n",
    "        self.dropout2 = nn.Dropout(dropout_rate)\n",
    "\n",
    "        self.dense3 = nn.Linear(hidden_size+hidden_size, hidden_size)\n",
    "        self.batch_norm3 = nn.BatchNorm1d(hidden_size)\n",
    "        self.dropout3 = nn.Dropout(dropout_rate)\n",
    "\n",
    "        self.dense4 = nn.Linear(hidden_size+hidden_size, hidden_size)\n",
    "        self.batch_norm4 = nn.BatchNorm1d(hidden_size)\n",
    "        self.dropout4 = nn.Dropout(dropout_rate)\n",
    "\n",
    "        self.dense5 = nn.Linear(hidden_size+hidden_size, len(target_cols))\n",
    "\n",
    "        self.Relu = nn.ReLU(inplace=True)\n",
    "        self.PReLU = nn.PReLU()\n",
    "        self.LeakyReLU = nn.LeakyReLU(negative_slope=0.01, inplace=True)\n",
    "        self.RReLU = nn.RReLU()\n",
    "\n",
    "    def forward(self, x):\n",
    "        x = self.batch_norm0(x)\n",
    "        x = self.dropout0(x)\n",
    "\n",
    "        x1 = self.dense1(x)\n",
    "        x1 = self.batch_norm1(x1)\n",
    "        x1 = self.LeakyReLU(x1)\n",
    "        x1 = self.dropout1(x1)\n",
    "\n",
    "        x = torch.cat([x, x1], 1)\n",
    "\n",
    "        x2 = self.dense2(x)\n",
    "        x2 = self.batch_norm2(x2)\n",
    "        x2 = self.LeakyReLU(x2)\n",
    "        x2 = self.dropout2(x2)\n",
    "\n",
    "        x = torch.cat([x1, x2], 1)\n",
    "\n",
    "        x3 = self.dense3(x)\n",
    "        x3 = self.batch_norm3(x3)\n",
    "        x3 = self.LeakyReLU(x3)\n",
    "        x3 = self.dropout3(x3)\n",
    "\n",
    "        x = torch.cat([x2, x3], 1)\n",
    "\n",
    "        x4 = self.dense4(x)\n",
    "        x4 = self.batch_norm4(x4)\n",
    "        x4 = self.LeakyReLU(x4)\n",
    "        x4 = self.dropout4(x4)\n",
    "\n",
    "        x = torch.cat([x3, x4], 1)\n",
    "\n",
    "        x = self.dense5(x)\n",
    "\n",
    "        return x"
   ]
  },
  {
   "cell_type": "code",
   "execution_count": 5,
   "metadata": {
    "execution": {
     "iopub.execute_input": "2021-02-14T11:24:49.593823Z",
     "iopub.status.busy": "2021-02-14T11:24:49.593142Z",
     "iopub.status.idle": "2021-02-14T11:24:55.050312Z",
     "shell.execute_reply": "2021-02-14T11:24:55.050968Z"
    },
    "papermill": {
     "duration": 5.476898,
     "end_time": "2021-02-14T11:24:55.051165",
     "exception": false,
     "start_time": "2021-02-14T11:24:49.574267",
     "status": "completed"
    },
    "tags": []
   },
   "outputs": [],
   "source": [
    "device = torch.device(\"cuda:0\")\n",
    "resnet_model_list = []\n",
    "for _fold in range(NFOLDS):\n",
    "    torch.cuda.empty_cache()\n",
    "    model = Model()\n",
    "    model.to(device)\n",
    "    model_weights = f\"{CACHE_PATH}/online_model{_fold}.pth\"\n",
    "    model.load_state_dict(torch.load(model_weights))\n",
    "    model.eval()\n",
    "    resnet_model_list.append(model)"
   ]
  },
  {
   "cell_type": "code",
   "execution_count": 6,
   "metadata": {
    "execution": {
     "iopub.execute_input": "2021-02-14T11:24:55.083439Z",
     "iopub.status.busy": "2021-02-14T11:24:55.082583Z",
     "iopub.status.idle": "2021-02-14T11:24:55.085644Z",
     "shell.execute_reply": "2021-02-14T11:24:55.085178Z"
    },
    "papermill": {
     "duration": 0.01996,
     "end_time": "2021-02-14T11:24:55.085788",
     "exception": false,
     "start_time": "2021-02-14T11:24:55.065828",
     "status": "completed"
    },
    "tags": []
   },
   "outputs": [],
   "source": [
    "resnet_model_list=resnet_model_list[-2:]"
   ]
  },
  {
   "cell_type": "code",
   "execution_count": 7,
   "metadata": {
    "execution": {
     "iopub.execute_input": "2021-02-14T11:24:55.114554Z",
     "iopub.status.busy": "2021-02-14T11:24:55.113843Z",
     "iopub.status.idle": "2021-02-14T11:24:55.116747Z",
     "shell.execute_reply": "2021-02-14T11:24:55.116301Z"
    },
    "papermill": {
     "duration": 0.018197,
     "end_time": "2021-02-14T11:24:55.116883",
     "exception": false,
     "start_time": "2021-02-14T11:24:55.098686",
     "status": "completed"
    },
    "tags": []
   },
   "outputs": [],
   "source": [
    "#keras"
   ]
  },
  {
   "cell_type": "code",
   "execution_count": 8,
   "metadata": {
    "execution": {
     "iopub.execute_input": "2021-02-14T11:24:55.148079Z",
     "iopub.status.busy": "2021-02-14T11:24:55.147427Z",
     "iopub.status.idle": "2021-02-14T11:25:00.360040Z",
     "shell.execute_reply": "2021-02-14T11:25:00.358946Z"
    },
    "papermill": {
     "duration": 5.231005,
     "end_time": "2021-02-14T11:25:00.360208",
     "exception": false,
     "start_time": "2021-02-14T11:24:55.129203",
     "status": "completed"
    },
    "tags": []
   },
   "outputs": [],
   "source": [
    "from tensorflow.keras.layers import Input, Dense, BatchNormalization, Dropout, Concatenate, Lambda, GaussianNoise, Activation\n",
    "from tensorflow.keras.models import Model, Sequential\n",
    "from tensorflow.keras.losses import BinaryCrossentropy\n",
    "from tensorflow.keras.optimizers import Adam\n",
    "from tensorflow.keras.callbacks import EarlyStopping\n",
    "from tensorflow.keras.layers.experimental.preprocessing import Normalization\n",
    "import tensorflow as tf\n",
    "import numpy as np\n",
    "import pandas as pd\n",
    "from sklearn.model_selection import GroupKFold\n",
    "\n",
    "from tqdm import tqdm\n",
    "from random import choices\n",
    "import random\n",
    "\n",
    "import kerastuner as kt"
   ]
  },
  {
   "cell_type": "code",
   "execution_count": 9,
   "metadata": {
    "execution": {
     "iopub.execute_input": "2021-02-14T11:25:00.392754Z",
     "iopub.status.busy": "2021-02-14T11:25:00.391858Z",
     "iopub.status.idle": "2021-02-14T11:25:00.394284Z",
     "shell.execute_reply": "2021-02-14T11:25:00.394748Z"
    },
    "papermill": {
     "duration": 0.020284,
     "end_time": "2021-02-14T11:25:00.394908",
     "exception": false,
     "start_time": "2021-02-14T11:25:00.374624",
     "status": "completed"
    },
    "tags": []
   },
   "outputs": [],
   "source": [
    "keras_f_mean = np.load('../input/npyfolder/keras_f_mean_online.npy')"
   ]
  },
  {
   "cell_type": "code",
   "execution_count": 10,
   "metadata": {
    "execution": {
     "iopub.execute_input": "2021-02-14T11:25:00.430798Z",
     "iopub.status.busy": "2021-02-14T11:25:00.429762Z",
     "iopub.status.idle": "2021-02-14T11:25:00.432704Z",
     "shell.execute_reply": "2021-02-14T11:25:00.432133Z"
    },
    "papermill": {
     "duration": 0.025145,
     "end_time": "2021-02-14T11:25:00.432839",
     "exception": false,
     "start_time": "2021-02-14T11:25:00.407694",
     "status": "completed"
    },
    "tags": []
   },
   "outputs": [],
   "source": [
    "def create_autoencoder(input_dim,output_dim,noise=0.05):\n",
    "    i = Input(input_dim)\n",
    "    encoded = BatchNormalization()(i)\n",
    "    encoded = GaussianNoise(noise)(encoded)\n",
    "    encoded = Dense(64,activation='relu')(encoded)\n",
    "    decoded = Dropout(0.2)(encoded)\n",
    "    decoded = Dense(input_dim,name='decoded')(decoded)\n",
    "    x = Dense(32,activation='relu')(decoded)\n",
    "    x = BatchNormalization()(x)\n",
    "    x = Dropout(0.2)(x)\n",
    "    x = Dense(output_dim,activation='sigmoid',name='label_output')(x)\n",
    "    \n",
    "    encoder = Model(inputs=i,outputs=decoded)\n",
    "    autoencoder = Model(inputs=i,outputs=[decoded,x])\n",
    "    \n",
    "    autoencoder.compile(optimizer=Adam(0.001),loss={'decoded':'mse','label_output':'binary_crossentropy'})\n",
    "    return autoencoder, encoder"
   ]
  },
  {
   "cell_type": "code",
   "execution_count": 11,
   "metadata": {
    "execution": {
     "iopub.execute_input": "2021-02-14T11:25:00.468396Z",
     "iopub.status.busy": "2021-02-14T11:25:00.467602Z",
     "iopub.status.idle": "2021-02-14T11:25:00.470597Z",
     "shell.execute_reply": "2021-02-14T11:25:00.470062Z"
    },
    "papermill": {
     "duration": 0.024829,
     "end_time": "2021-02-14T11:25:00.470735",
     "exception": false,
     "start_time": "2021-02-14T11:25:00.445906",
     "status": "completed"
    },
    "tags": []
   },
   "outputs": [],
   "source": [
    "def create_model(hp,input_dim,output_dim,encoder):\n",
    "    inputs = Input(input_dim)\n",
    "    \n",
    "    x = encoder(inputs)\n",
    "    x = Concatenate()([x,inputs]) \n",
    "    x = BatchNormalization()(x)\n",
    "    x = Dropout(hp.Float('init_dropout',0.0,0.5))(x)\n",
    "    \n",
    "    for i in range(hp.Int('num_layers',1,3)):\n",
    "        x = Dense(hp.Int(f'num_units_{i}',64,256))(x)\n",
    "        x = BatchNormalization()(x)\n",
    "        x = Lambda(tf.keras.activations.swish)(x)\n",
    "        x = Dropout(hp.Float(f'dropout_{i}',0.0,0.5))(x)\n",
    "    x = Dense(output_dim,activation='sigmoid')(x)\n",
    "    model = Model(inputs=inputs,outputs=x)\n",
    "    model.compile(optimizer=Adam(hp.Float('lr',0.00001,0.1,default=0.001)),loss=BinaryCrossentropy(label_smoothing=hp.Float('label_smoothing',0.0,0.1)),metrics=[tf.keras.metrics.AUC(name = 'auc')])\n",
    "    return model"
   ]
  },
  {
   "cell_type": "code",
   "execution_count": 12,
   "metadata": {
    "execution": {
     "iopub.execute_input": "2021-02-14T11:25:00.502354Z",
     "iopub.status.busy": "2021-02-14T11:25:00.501756Z",
     "iopub.status.idle": "2021-02-14T11:25:02.988073Z",
     "shell.execute_reply": "2021-02-14T11:25:02.986601Z"
    },
    "papermill": {
     "duration": 2.503152,
     "end_time": "2021-02-14T11:25:02.988223",
     "exception": false,
     "start_time": "2021-02-14T11:25:00.485071",
     "status": "completed"
    },
    "tags": []
   },
   "outputs": [],
   "source": [
    "autoencoder, encoder = create_autoencoder(130,5,noise=0.1) \n",
    "encoder.load_weights('../input/modelfolder/encoder.hdf5')\n",
    "encoder.trainable = False"
   ]
  },
  {
   "cell_type": "code",
   "execution_count": 13,
   "metadata": {
    "execution": {
     "iopub.execute_input": "2021-02-14T11:25:03.023035Z",
     "iopub.status.busy": "2021-02-14T11:25:03.022257Z",
     "iopub.status.idle": "2021-02-14T11:25:03.931393Z",
     "shell.execute_reply": "2021-02-14T11:25:03.930545Z"
    },
    "papermill": {
     "duration": 0.928951,
     "end_time": "2021-02-14T11:25:03.931547",
     "exception": false,
     "start_time": "2021-02-14T11:25:03.002596",
     "status": "completed"
    },
    "tags": []
   },
   "outputs": [],
   "source": [
    "model_fn = lambda hp: create_model(hp,130,5,encoder)\n",
    "\n",
    "FOLDS = xx\n",
    "SEED = xx\n",
    "\n",
    "keras_models = []\n",
    "hp = pd.read_pickle(f'../input/modelfolder/best_hp_{SEED}.pkl')\n",
    "for f in range(FOLDS):\n",
    "    model = model_fn(hp)\n",
    "    model.load_weights(f'../input/modelfolder/model_{SEED}_{f}_finetune.hdf5')\n",
    "    keras_models.append(model)"
   ]
  },
  {
   "cell_type": "code",
   "execution_count": 14,
   "metadata": {
    "execution": {
     "iopub.execute_input": "2021-02-14T11:25:03.962820Z",
     "iopub.status.busy": "2021-02-14T11:25:03.962174Z",
     "iopub.status.idle": "2021-02-14T11:25:03.966209Z",
     "shell.execute_reply": "2021-02-14T11:25:03.965577Z"
    },
    "papermill": {
     "duration": 0.021098,
     "end_time": "2021-02-14T11:25:03.966340",
     "exception": false,
     "start_time": "2021-02-14T11:25:03.945242",
     "status": "completed"
    },
    "tags": []
   },
   "outputs": [],
   "source": [
    "keras_model= keras_models[-1]\n",
    "# keras_model= keras_models[-2]"
   ]
  },
  {
   "cell_type": "code",
   "execution_count": 15,
   "metadata": {
    "execution": {
     "iopub.execute_input": "2021-02-14T11:25:03.997864Z",
     "iopub.status.busy": "2021-02-14T11:25:03.997190Z",
     "iopub.status.idle": "2021-02-14T11:25:04.021218Z",
     "shell.execute_reply": "2021-02-14T11:25:04.020079Z"
    },
    "papermill": {
     "duration": 0.041143,
     "end_time": "2021-02-14T11:25:04.021352",
     "exception": false,
     "start_time": "2021-02-14T11:25:03.980209",
     "status": "completed"
    },
    "tags": []
   },
   "outputs": [],
   "source": [
    "import janestreet\n",
    "env = janestreet.make_env()\n",
    "env_iter = env.iter_test()"
   ]
  },
  {
   "cell_type": "code",
   "execution_count": 16,
   "metadata": {
    "execution": {
     "iopub.execute_input": "2021-02-14T11:25:04.056843Z",
     "iopub.status.busy": "2021-02-14T11:25:04.055116Z",
     "iopub.status.idle": "2021-02-14T11:25:04.057467Z",
     "shell.execute_reply": "2021-02-14T11:25:04.057969Z"
    },
    "papermill": {
     "duration": 0.021826,
     "end_time": "2021-02-14T11:25:04.058106",
     "exception": false,
     "start_time": "2021-02-14T11:25:04.036280",
     "status": "completed"
    },
    "tags": []
   },
   "outputs": [],
   "source": [
    "test_df_columns = ['weight'] + [f'feature_{i}' for i in range(130)] + ['date']\n",
    "index_features = [n for n, col in enumerate(test_df_columns) if col in feat_cols]"
   ]
  },
  {
   "cell_type": "code",
   "execution_count": 17,
   "metadata": {
    "execution": {
     "iopub.execute_input": "2021-02-14T11:25:04.094509Z",
     "iopub.status.busy": "2021-02-14T11:25:04.093699Z",
     "iopub.status.idle": "2021-02-14T11:29:22.317176Z",
     "shell.execute_reply": "2021-02-14T11:29:22.317630Z"
    },
    "papermill": {
     "duration": 258.245553,
     "end_time": "2021-02-14T11:29:22.317837",
     "exception": false,
     "start_time": "2021-02-14T11:25:04.072284",
     "status": "completed"
    },
    "tags": []
   },
   "outputs": [
    {
     "name": "stderr",
     "output_type": "stream",
     "text": [
      "15219it [04:18, 58.94it/s]\n"
     ]
    }
   ],
   "source": [
    "import gc\n",
    "for (test_df, pred_df) in tqdm(env_iter):\n",
    "    if test_df['weight'].values[0]>0:\n",
    "        #resnet\n",
    "        resnet_x_tt = test_df.values[0][index_features].reshape(1, -1)\n",
    "        if np.isnan(resnet_x_tt.sum()):\n",
    "            resnet_x_tt = np.nan_to_num(resnet_x_tt) + np.isnan(resnet_x_tt) * f_mean\n",
    "        cross_41_42_43 =resnet_x_tt[:, 41] +resnet_x_tt[:, 42] +resnet_x_tt[:, 43]\n",
    "        cross_1_2 =resnet_x_tt[:, 1] / (resnet_x_tt[:, 2] + 1e-5)\n",
    "        feature_inp = np.concatenate((\n",
    "            resnet_x_tt,\n",
    "            np.array(cross_41_42_43).reshape(resnet_x_tt.shape[0], 1),\n",
    "            np.array(cross_1_2).reshape(resnet_x_tt.shape[0], 1),\n",
    "            ), axis=1)\n",
    "        resnet_pred = np.zeros((1, len(target_cols)))\n",
    "        for model in resnet_model_list:\n",
    "            resnet_pred += model(torch.tensor(feature_inp, dtype=torch.float).to(device)).sigmoid().detach().cpu().numpy() / 2\n",
    "        resnet_pred = np.median(resnet_pred)\n",
    "        #keras\n",
    "        keras_x_tt = test_df.values[0][index_features].reshape(1, -1)\n",
    "        if np.isnan(keras_x_tt.sum()):\n",
    "            keras_x_tt = np.nan_to_num(keras_x_tt) + np.isnan(keras_x_tt) * keras_f_mean\n",
    "        keras_pred = keras_model(keras_x_tt, training = False).numpy() \n",
    "        keras_pred =  np.median(keras_pred)\n",
    "        # final_pred\n",
    "        final_pred=0.5*resnet_pred +0.5*keras_pred # adjust weight\n",
    "        pred_df.action = int(final_pred >= 0.5) # 0.499,0.501\n",
    "    else:\n",
    "        pred_df['action'].values[0] = 0\n",
    "    env.predict(pred_df)"
   ]
  },
  {
   "cell_type": "code",
   "execution_count": null,
   "metadata": {
    "papermill": {
     "duration": 0.70278,
     "end_time": "2021-02-14T11:29:23.724123",
     "exception": false,
     "start_time": "2021-02-14T11:29:23.021343",
     "status": "completed"
    },
    "tags": []
   },
   "outputs": [],
   "source": []
  }
 ],
 "metadata": {
  "kernelspec": {
   "display_name": "Python 3",
   "language": "python",
   "name": "python3"
  },
  "language_info": {
   "codemirror_mode": {
    "name": "ipython",
    "version": 3
   },
   "file_extension": ".py",
   "mimetype": "text/x-python",
   "name": "python",
   "nbconvert_exporter": "python",
   "pygments_lexer": "ipython3",
   "version": "3.7.3"
  },
  "papermill": {
   "default_parameters": {},
   "duration": 285.920708,
   "end_time": "2021-02-14T11:29:27.273555",
   "environment_variables": {},
   "exception": null,
   "input_path": "__notebook__.ipynb",
   "output_path": "__notebook__.ipynb",
   "parameters": {},
   "start_time": "2021-02-14T11:24:41.352847",
   "version": "2.2.2"
  }
 },
 "nbformat": 4,
 "nbformat_minor": 4
}
