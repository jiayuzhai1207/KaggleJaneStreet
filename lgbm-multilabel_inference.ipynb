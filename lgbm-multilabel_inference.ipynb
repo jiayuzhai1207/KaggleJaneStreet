{
 "cells": [
  {
   "cell_type": "code",
   "execution_count": 1,
   "metadata": {
    "_cell_guid": "b1076dfc-b9ad-4769-8c92-a6c4dae69d19",
    "_uuid": "8f2839f25d086af736a60e9eeb907d3b93b6e0e5",
    "execution": {
     "iopub.execute_input": "2021-02-08T02:43:08.897670Z",
     "iopub.status.busy": "2021-02-08T02:43:08.896973Z",
     "iopub.status.idle": "2021-02-08T02:43:08.900904Z",
     "shell.execute_reply": "2021-02-08T02:43:08.900401Z"
    },
    "papermill": {
     "duration": 0.015257,
     "end_time": "2021-02-08T02:43:08.901059",
     "exception": false,
     "start_time": "2021-02-08T02:43:08.885802",
     "status": "completed"
    },
    "tags": []
   },
   "outputs": [],
   "source": [
    "# This Python 3 environment comes with many helpful analytics libraries installed\n",
    "# It is defined by the kaggle/python Docker image: https://github.com/kaggle/docker-python\n",
    "# For example, here's several helpful packages to load\n",
    "\n",
    "import numpy as np # linear algebra\n",
    "import pandas as pd # data processing, CSV file I/O (e.g. pd.read_csv)"
   ]
  },
  {
   "cell_type": "code",
   "execution_count": 2,
   "metadata": {
    "execution": {
     "iopub.execute_input": "2021-02-08T02:43:08.917891Z",
     "iopub.status.busy": "2021-02-08T02:43:08.917279Z",
     "iopub.status.idle": "2021-02-08T02:43:09.864300Z",
     "shell.execute_reply": "2021-02-08T02:43:09.863850Z"
    },
    "papermill": {
     "duration": 0.956869,
     "end_time": "2021-02-08T02:43:09.864434",
     "exception": false,
     "start_time": "2021-02-08T02:43:08.907565",
     "status": "completed"
    },
    "tags": []
   },
   "outputs": [
    {
     "data": {
      "text/html": [
       "<style type='text/css'>\n",
       ".datatable table.frame { margin-bottom: 0; }\n",
       ".datatable table.frame thead { border-bottom: none; }\n",
       ".datatable table.frame tr.coltypes td {  color: #FFFFFF;  line-height: 6px;  padding: 0 0.5em;}\n",
       ".datatable .bool    { background: #DDDD99; }\n",
       ".datatable .object  { background: #565656; }\n",
       ".datatable .int     { background: #5D9E5D; }\n",
       ".datatable .float   { background: #4040CC; }\n",
       ".datatable .str     { background: #CC4040; }\n",
       ".datatable .row_index {  background: var(--jp-border-color3);  border-right: 1px solid var(--jp-border-color0);  color: var(--jp-ui-font-color3);  font-size: 9px;}\n",
       ".datatable .frame tr.coltypes .row_index {  background: var(--jp-border-color0);}\n",
       ".datatable th:nth-child(2) { padding-left: 12px; }\n",
       ".datatable .hellipsis {  color: var(--jp-cell-editor-border-color);}\n",
       ".datatable .vellipsis {  background: var(--jp-layout-color0);  color: var(--jp-cell-editor-border-color);}\n",
       ".datatable .na {  color: var(--jp-cell-editor-border-color);  font-size: 80%;}\n",
       ".datatable .footer { font-size: 9px; }\n",
       ".datatable .frame_dimensions {  background: var(--jp-border-color3);  border-top: 1px solid var(--jp-border-color0);  color: var(--jp-ui-font-color3);  display: inline-block;  opacity: 0.6;  padding: 1px 10px 1px 5px;}\n",
       "</style>\n"
      ],
      "text/plain": [
       "<IPython.core.display.HTML object>"
      ]
     },
     "metadata": {},
     "output_type": "display_data"
    }
   ],
   "source": [
    "import random\n",
    "import numpy as np\n",
    "import pandas as pd\n",
    "from tqdm import tqdm\n",
    "from random import choices\n",
    "from sklearn.model_selection import train_test_split\n",
    "import lightgbm as lgbm"
   ]
  },
  {
   "cell_type": "code",
   "execution_count": 3,
   "metadata": {
    "execution": {
     "iopub.execute_input": "2021-02-08T02:43:09.884735Z",
     "iopub.status.busy": "2021-02-08T02:43:09.884175Z",
     "iopub.status.idle": "2021-02-08T02:45:16.250175Z",
     "shell.execute_reply": "2021-02-08T02:45:16.250784Z"
    },
    "papermill": {
     "duration": 126.378913,
     "end_time": "2021-02-08T02:45:16.251005",
     "exception": false,
     "start_time": "2021-02-08T02:43:09.872092",
     "status": "completed"
    },
    "tags": []
   },
   "outputs": [],
   "source": [
    "train = pd.read_csv('../input/jane-street-market-prediction/train.csv')"
   ]
  },
  {
   "cell_type": "code",
   "execution_count": 4,
   "metadata": {
    "execution": {
     "iopub.execute_input": "2021-02-08T02:45:16.283888Z",
     "iopub.status.busy": "2021-02-08T02:45:16.283189Z",
     "iopub.status.idle": "2021-02-08T02:45:21.026652Z",
     "shell.execute_reply": "2021-02-08T02:45:21.027062Z"
    },
    "papermill": {
     "duration": 4.765437,
     "end_time": "2021-02-08T02:45:21.027216",
     "exception": false,
     "start_time": "2021-02-08T02:45:16.261779",
     "status": "completed"
    },
    "tags": []
   },
   "outputs": [],
   "source": [
    "train = train.query('date > 85').reset_index(drop = True) \n",
    "train = train[train['weight'] != 0]\n",
    "train = train.astype({c: np.float32 for c in train.select_dtypes(include='float64').columns}) #limit memory use\n",
    "train['feature_stock_id_sum'] = train['feature_41'] + train['feature_42'] + train['feature_43']\n",
    "train['feature_1_2_cross'] = train['feature_1']/(train['feature_2']+1e-5)\n",
    "train.fillna(-9999,inplace=True)\n",
    "\n",
    "\n",
    "features = [c for c in train.columns if \"feature\" in c]\n",
    "\n",
    "resp_cols = ['resp_1', 'resp_2', 'resp_3', 'resp', 'resp_4']"
   ]
  },
  {
   "cell_type": "code",
   "execution_count": 8,
   "metadata": {
    "execution": {
     "iopub.execute_input": "2021-02-08T02:45:21.109070Z",
     "iopub.status.busy": "2021-02-08T02:45:21.108515Z",
     "iopub.status.idle": "2021-02-08T02:45:21.650970Z",
     "shell.execute_reply": "2021-02-08T02:45:21.650165Z"
    },
    "papermill": {
     "duration": 0.554407,
     "end_time": "2021-02-08T02:45:21.651115",
     "exception": false,
     "start_time": "2021-02-08T02:45:21.096708",
     "status": "completed"
    },
    "tags": []
   },
   "outputs": [],
   "source": [
    "import os, sys, gc, time, warnings, pickle, psutil, random\n",
    "params={\"num_leaves\":xx,\n",
    "        \"feature_fraction\":xx,\n",
    "        \"bagging_fraction\":xx,\n",
    "        \"objective\":\"binary\",\n",
    "        \"learning_rate\":xx,\n",
    "        \"boosting_type\":\"gbdt\",\n",
    "        \"metric\":\"auc\",\n",
    "        'device':'gpu',\n",
    "        'seed':xx\n",
    "    \n",
    "       }\n",
    "models = []\n",
    "for i in range(5):\n",
    "    model_path = '../input/folder_name/lgb_model_'+str(i)+'.bin' \n",
    "    clf = pickle.load(open(model_path, 'rb'))\n",
    "    models.append(clf)"
   ]
  },
  {
   "cell_type": "code",
   "execution_count": 10,
   "metadata": {
    "execution": {
     "iopub.execute_input": "2021-02-08T02:45:21.696120Z",
     "iopub.status.busy": "2021-02-08T02:45:21.695642Z",
     "iopub.status.idle": "2021-02-08T02:48:45.200144Z",
     "shell.execute_reply": "2021-02-08T02:48:45.199719Z"
    },
    "papermill": {
     "duration": 203.51798,
     "end_time": "2021-02-08T02:48:45.200284",
     "exception": false,
     "start_time": "2021-02-08T02:45:21.682304",
     "status": "completed"
    },
    "tags": []
   },
   "outputs": [
    {
     "name": "stderr",
     "output_type": "stream",
     "text": [
      "15219it [03:23, 74.80it/s]\n"
     ]
    }
   ],
   "source": [
    "f = np.median\n",
    "th = 0.5000\n",
    "import janestreet\n",
    "env = janestreet.make_env()\n",
    "for (test_df, pred_df) in tqdm(env.iter_test()):\n",
    "    if test_df['weight'].item() > 0:\n",
    "        test_df['feature_stock_id_sum'] = test_df['feature_41'] + test_df['feature_42'] + test_df['feature_43']\n",
    "        test_df['feature_1_2_cross'] = test_df['feature_1']/(test_df['feature_2']+1e-5)\n",
    "        test_df.fillna(-9999,inplace=True)\n",
    "        x_tt = test_df.loc[:, features].values\n",
    "        pred = np.stack([model.predict(x_tt) for model in models]).T\n",
    "        pred = f(pred)\n",
    "        pred_df.action = np.where(pred >= th, 1, 0).astype(int)\n",
    "    else:\n",
    "        pred_df.action = 0\n",
    "    env.predict(pred_df)"
   ]
  },
  {
   "cell_type": "code",
   "execution_count": null,
   "metadata": {
    "papermill": {
     "duration": 0.437735,
     "end_time": "2021-02-08T02:48:46.064192",
     "exception": false,
     "start_time": "2021-02-08T02:48:45.626457",
     "status": "completed"
    },
    "tags": []
   },
   "outputs": [],
   "source": []
  }
 ],
 "metadata": {
  "kernelspec": {
   "display_name": "Python 3",
   "language": "python",
   "name": "python3"
  },
  "language_info": {
   "codemirror_mode": {
    "name": "ipython",
    "version": 3
   },
   "file_extension": ".py",
   "mimetype": "text/x-python",
   "name": "python",
   "nbconvert_exporter": "python",
   "pygments_lexer": "ipython3",
   "version": "3.8.3"
  },
  "papermill": {
   "default_parameters": {},
   "duration": 343.421064,
   "end_time": "2021-02-08T02:48:47.194716",
   "environment_variables": {},
   "exception": null,
   "input_path": "__notebook__.ipynb",
   "output_path": "__notebook__.ipynb",
   "parameters": {},
   "start_time": "2021-02-08T02:43:03.773652",
   "version": "2.2.2"
  }
 },
 "nbformat": 4,
 "nbformat_minor": 4
}
