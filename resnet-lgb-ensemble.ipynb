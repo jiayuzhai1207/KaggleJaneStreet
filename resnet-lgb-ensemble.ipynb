{
 "cells": [
  {
   "cell_type": "code",
   "execution_count": 1,
   "metadata": {
    "_cell_guid": "b1076dfc-b9ad-4769-8c92-a6c4dae69d19",
    "_uuid": "8f2839f25d086af736a60e9eeb907d3b93b6e0e5",
    "execution": {
     "iopub.execute_input": "2021-02-14T06:56:35.166757Z",
     "iopub.status.busy": "2021-02-14T06:56:35.165770Z",
     "iopub.status.idle": "2021-02-14T06:56:35.169188Z",
     "shell.execute_reply": "2021-02-14T06:56:35.168502Z"
    },
    "papermill": {
     "duration": 0.019839,
     "end_time": "2021-02-14T06:56:35.169396",
     "exception": false,
     "start_time": "2021-02-14T06:56:35.149557",
     "status": "completed"
    },
    "tags": []
   },
   "outputs": [],
   "source": [
    "# resnet"
   ]
  },
  {
   "cell_type": "code",
   "execution_count": 2,
   "metadata": {
    "execution": {
     "iopub.execute_input": "2021-02-14T06:56:35.195590Z",
     "iopub.status.busy": "2021-02-14T06:56:35.194901Z",
     "iopub.status.idle": "2021-02-14T06:56:37.628115Z",
     "shell.execute_reply": "2021-02-14T06:56:37.626543Z"
    },
    "papermill": {
     "duration": 2.448957,
     "end_time": "2021-02-14T06:56:37.628280",
     "exception": false,
     "start_time": "2021-02-14T06:56:35.179323",
     "status": "completed"
    },
    "tags": []
   },
   "outputs": [],
   "source": [
    "import os\n",
    "import time\n",
    "import pickle\n",
    "import random\n",
    "import numpy as np\n",
    "import pandas as pd\n",
    "from tqdm import tqdm\n",
    "from sklearn.metrics import log_loss, roc_auc_score\n",
    "\n",
    "import torch\n",
    "import torch.nn as nn\n",
    "from torch.autograd import Variable\n",
    "from torch.utils.data import DataLoader\n",
    "from torch.nn import CrossEntropyLoss, MSELoss\n",
    "from torch.nn.modules.loss import _WeightedLoss\n",
    "import torch.nn.functional as F"
   ]
  },
  {
   "cell_type": "code",
   "execution_count": 3,
   "metadata": {
    "execution": {
     "iopub.execute_input": "2021-02-14T06:56:37.654789Z",
     "iopub.status.busy": "2021-02-14T06:56:37.654047Z",
     "iopub.status.idle": "2021-02-14T06:56:37.666400Z",
     "shell.execute_reply": "2021-02-14T06:56:37.665672Z"
    },
    "papermill": {
     "duration": 0.028033,
     "end_time": "2021-02-14T06:56:37.666541",
     "exception": false,
     "start_time": "2021-02-14T06:56:37.638508",
     "status": "completed"
    },
    "tags": []
   },
   "outputs": [],
   "source": [
    "NFOLDS = 5\n",
    "\n",
    "CACHE_PATH = '../input/modelfolder'\n",
    "\n",
    "feat_cols = [f'feature_{i}' for i in range(130)]\n",
    "\n",
    "target_cols = ['action', 'action_1', 'action_2', 'action_3', 'action_4']\n",
    "\n",
    "f_mean = np.load(f'{CACHE_PATH}/f_mean_online.npy')\n",
    "\n",
    "all_feat_cols = [col for col in feat_cols]\n",
    "all_feat_cols.extend(['cross_41_42_43', 'cross_1_2'])"
   ]
  },
  {
   "cell_type": "code",
   "execution_count": 4,
   "metadata": {
    "execution": {
     "iopub.execute_input": "2021-02-14T06:56:37.707188Z",
     "iopub.status.busy": "2021-02-14T06:56:37.705154Z",
     "iopub.status.idle": "2021-02-14T06:56:37.708002Z",
     "shell.execute_reply": "2021-02-14T06:56:37.708537Z"
    },
    "papermill": {
     "duration": 0.031608,
     "end_time": "2021-02-14T06:56:37.708697",
     "exception": false,
     "start_time": "2021-02-14T06:56:37.677089",
     "status": "completed"
    },
    "tags": []
   },
   "outputs": [],
   "source": [
    "class Model(nn.Module):\n",
    "    def __init__(self):\n",
    "        super(Model, self).__init__()\n",
    "        self.batch_norm0 = nn.BatchNorm1d(len(all_feat_cols))\n",
    "        self.dropout0 = nn.Dropout(xx)\n",
    "\n",
    "        dropout_rate = xx\n",
    "        hidden_size = xx\n",
    "        self.dense1 = nn.Linear(len(all_feat_cols), hidden_size)\n",
    "        self.batch_norm1 = nn.BatchNorm1d(hidden_size)\n",
    "        self.dropout1 = nn.Dropout(dropout_rate)\n",
    "\n",
    "        self.dense2 = nn.Linear(hidden_size+len(all_feat_cols), hidden_size)\n",
    "        self.batch_norm2 = nn.BatchNorm1d(hidden_size)\n",
    "        self.dropout2 = nn.Dropout(dropout_rate)\n",
    "\n",
    "        self.dense3 = nn.Linear(hidden_size+hidden_size, hidden_size)\n",
    "        self.batch_norm3 = nn.BatchNorm1d(hidden_size)\n",
    "        self.dropout3 = nn.Dropout(dropout_rate)\n",
    "\n",
    "        self.dense4 = nn.Linear(hidden_size+hidden_size, hidden_size)\n",
    "        self.batch_norm4 = nn.BatchNorm1d(hidden_size)\n",
    "        self.dropout4 = nn.Dropout(dropout_rate)\n",
    "\n",
    "        self.dense5 = nn.Linear(hidden_size+hidden_size, len(target_cols))\n",
    "\n",
    "        self.Relu = nn.ReLU(inplace=True)\n",
    "        self.PReLU = nn.PReLU()\n",
    "        self.LeakyReLU = nn.LeakyReLU(negative_slope=0.01, inplace=True)\n",
    "        self.RReLU = nn.RReLU()\n",
    "\n",
    "    def forward(self, x):\n",
    "        x = self.batch_norm0(x)\n",
    "        x = self.dropout0(x)\n",
    "\n",
    "        x1 = self.dense1(x)\n",
    "        x1 = self.batch_norm1(x1)\n",
    "        x1 = self.LeakyReLU(x1)\n",
    "        x1 = self.dropout1(x1)\n",
    "\n",
    "        x = torch.cat([x, x1], 1)\n",
    "\n",
    "        x2 = self.dense2(x)\n",
    "        x2 = self.batch_norm2(x2)\n",
    "        x2 = self.LeakyReLU(x2)\n",
    "        x2 = self.dropout2(x2)\n",
    "\n",
    "        x = torch.cat([x1, x2], 1)\n",
    "\n",
    "        x3 = self.dense3(x)\n",
    "        x3 = self.batch_norm3(x3)\n",
    "        x3 = self.LeakyReLU(x3)\n",
    "        x3 = self.dropout3(x3)\n",
    "\n",
    "        x = torch.cat([x2, x3], 1)\n",
    "\n",
    "        x4 = self.dense4(x)\n",
    "        x4 = self.batch_norm4(x4)\n",
    "        x4 = self.LeakyReLU(x4)\n",
    "        x4 = self.dropout4(x4)\n",
    "\n",
    "        x = torch.cat([x3, x4], 1)\n",
    "\n",
    "        x = self.dense5(x)\n",
    "\n",
    "        return x"
   ]
  },
  {
   "cell_type": "code",
   "execution_count": 5,
   "metadata": {
    "execution": {
     "iopub.execute_input": "2021-02-14T06:56:37.737359Z",
     "iopub.status.busy": "2021-02-14T06:56:37.736616Z",
     "iopub.status.idle": "2021-02-14T06:56:43.275516Z",
     "shell.execute_reply": "2021-02-14T06:56:43.274402Z"
    },
    "papermill": {
     "duration": 5.556763,
     "end_time": "2021-02-14T06:56:43.275692",
     "exception": false,
     "start_time": "2021-02-14T06:56:37.718929",
     "status": "completed"
    },
    "tags": []
   },
   "outputs": [],
   "source": [
    "device = torch.device(\"cuda:0\")\n",
    "resnet_model_list = []\n",
    "for _fold in range(NFOLDS):\n",
    "    torch.cuda.empty_cache()\n",
    "    model = Model()\n",
    "    model.to(device)\n",
    "    model_weights = f\"{CACHE_PATH}/online_model{_fold}.pth\"\n",
    "    model.load_state_dict(torch.load(model_weights))\n",
    "    model.eval()\n",
    "    resnet_model_list.append(model)"
   ]
  },
  {
   "cell_type": "code",
   "execution_count": 6,
   "metadata": {
    "execution": {
     "iopub.execute_input": "2021-02-14T06:56:43.303588Z",
     "iopub.status.busy": "2021-02-14T06:56:43.301576Z",
     "iopub.status.idle": "2021-02-14T06:56:43.304393Z",
     "shell.execute_reply": "2021-02-14T06:56:43.305007Z"
    },
    "papermill": {
     "duration": 0.017674,
     "end_time": "2021-02-14T06:56:43.305185",
     "exception": false,
     "start_time": "2021-02-14T06:56:43.287511",
     "status": "completed"
    },
    "tags": []
   },
   "outputs": [],
   "source": [
    "#lgb"
   ]
  },
  {
   "cell_type": "code",
   "execution_count": 7,
   "metadata": {
    "execution": {
     "iopub.execute_input": "2021-02-14T06:56:43.330542Z",
     "iopub.status.busy": "2021-02-14T06:56:43.329769Z",
     "iopub.status.idle": "2021-02-14T06:56:43.451492Z",
     "shell.execute_reply": "2021-02-14T06:56:43.450909Z"
    },
    "papermill": {
     "duration": 0.135985,
     "end_time": "2021-02-14T06:56:43.451630",
     "exception": false,
     "start_time": "2021-02-14T06:56:43.315645",
     "status": "completed"
    },
    "tags": []
   },
   "outputs": [
    {
     "data": {
      "text/html": [
       "<style type='text/css'>\n",
       ".datatable table.frame { margin-bottom: 0; }\n",
       ".datatable table.frame thead { border-bottom: none; }\n",
       ".datatable table.frame tr.coltypes td {  color: #FFFFFF;  line-height: 6px;  padding: 0 0.5em;}\n",
       ".datatable .bool    { background: #DDDD99; }\n",
       ".datatable .object  { background: #565656; }\n",
       ".datatable .int     { background: #5D9E5D; }\n",
       ".datatable .float   { background: #4040CC; }\n",
       ".datatable .str     { background: #CC4040; }\n",
       ".datatable .row_index {  background: var(--jp-border-color3);  border-right: 1px solid var(--jp-border-color0);  color: var(--jp-ui-font-color3);  font-size: 9px;}\n",
       ".datatable .frame tr.coltypes .row_index {  background: var(--jp-border-color0);}\n",
       ".datatable th:nth-child(2) { padding-left: 12px; }\n",
       ".datatable .hellipsis {  color: var(--jp-cell-editor-border-color);}\n",
       ".datatable .vellipsis {  background: var(--jp-layout-color0);  color: var(--jp-cell-editor-border-color);}\n",
       ".datatable .na {  color: var(--jp-cell-editor-border-color);  font-size: 80%;}\n",
       ".datatable .footer { font-size: 9px; }\n",
       ".datatable .frame_dimensions {  background: var(--jp-border-color3);  border-top: 1px solid var(--jp-border-color0);  color: var(--jp-ui-font-color3);  display: inline-block;  opacity: 0.6;  padding: 1px 10px 1px 5px;}\n",
       "</style>\n"
      ],
      "text/plain": [
       "<IPython.core.display.HTML object>"
      ]
     },
     "metadata": {},
     "output_type": "display_data"
    }
   ],
   "source": [
    "import random\n",
    "import numpy as np\n",
    "import pandas as pd\n",
    "from tqdm import tqdm\n",
    "from random import choices\n",
    "from sklearn.model_selection import train_test_split\n",
    "import lightgbm as lgbm"
   ]
  },
  {
   "cell_type": "code",
   "execution_count": 8,
   "metadata": {
    "execution": {
     "iopub.execute_input": "2021-02-14T06:56:43.480526Z",
     "iopub.status.busy": "2021-02-14T06:56:43.478666Z",
     "iopub.status.idle": "2021-02-14T06:56:43.481223Z",
     "shell.execute_reply": "2021-02-14T06:56:43.481692Z"
    },
    "papermill": {
     "duration": 0.0186,
     "end_time": "2021-02-14T06:56:43.481837",
     "exception": false,
     "start_time": "2021-02-14T06:56:43.463237",
     "status": "completed"
    },
    "tags": []
   },
   "outputs": [],
   "source": [
    "features = [col for col in feat_cols]\n",
    "features.extend(['feature_stock_id_sum', 'feature_1_2_cross'])"
   ]
  },
  {
   "cell_type": "code",
   "execution_count": 9,
   "metadata": {
    "execution": {
     "iopub.execute_input": "2021-02-14T06:56:43.508707Z",
     "iopub.status.busy": "2021-02-14T06:56:43.508052Z",
     "iopub.status.idle": "2021-02-14T06:56:44.423360Z",
     "shell.execute_reply": "2021-02-14T06:56:44.422211Z"
    },
    "papermill": {
     "duration": 0.930915,
     "end_time": "2021-02-14T06:56:44.423531",
     "exception": false,
     "start_time": "2021-02-14T06:56:43.492616",
     "status": "completed"
    },
    "tags": []
   },
   "outputs": [],
   "source": [
    "import os, sys, gc, time, warnings, pickle, psutil, random\n",
    "lgb_models = []\n",
    "for i in range(5):\n",
    "    model_path = '../input/modelfolder/lgb_model_'+str(i)+'.bin' \n",
    "    clf = pickle.load(open(model_path, 'rb'))\n",
    "    lgb_models.append(clf)"
   ]
  },
  {
   "cell_type": "code",
   "execution_count": 10,
   "metadata": {
    "execution": {
     "iopub.execute_input": "2021-02-14T06:56:44.451147Z",
     "iopub.status.busy": "2021-02-14T06:56:44.450498Z",
     "iopub.status.idle": "2021-02-14T06:56:44.473200Z",
     "shell.execute_reply": "2021-02-14T06:56:44.472538Z"
    },
    "papermill": {
     "duration": 0.038177,
     "end_time": "2021-02-14T06:56:44.473329",
     "exception": false,
     "start_time": "2021-02-14T06:56:44.435152",
     "status": "completed"
    },
    "tags": []
   },
   "outputs": [],
   "source": [
    "import janestreet\n",
    "env = janestreet.make_env()\n",
    "env_iter = env.iter_test()\n",
    "resnet_model_list=resnet_model_list[-2:]"
   ]
  },
  {
   "cell_type": "code",
   "execution_count": 11,
   "metadata": {
    "execution": {
     "iopub.execute_input": "2021-02-14T06:56:44.508721Z",
     "iopub.status.busy": "2021-02-14T06:56:44.508052Z",
     "iopub.status.idle": "2021-02-14T07:01:07.630791Z",
     "shell.execute_reply": "2021-02-14T07:01:07.631329Z"
    },
    "papermill": {
     "duration": 263.147296,
     "end_time": "2021-02-14T07:01:07.631510",
     "exception": false,
     "start_time": "2021-02-14T06:56:44.484214",
     "status": "completed"
    },
    "tags": []
   },
   "outputs": [
    {
     "name": "stderr",
     "output_type": "stream",
     "text": [
      "15219it [04:23, 57.84it/s]\n"
     ]
    }
   ],
   "source": [
    "for (test_df, pred_df) in tqdm(env_iter):\n",
    "    if test_df['weight'].item() > 0:\n",
    "        #resnet_pred\n",
    "        resnet_x_tt = test_df.loc[:, feat_cols].values\n",
    "        if np.isnan(resnet_x_tt.sum()):\n",
    "            resnet_x_tt = np.nan_to_num(resnet_x_tt) + np.isnan(resnet_x_tt) * f_mean\n",
    "        cross_41_42_43 =resnet_x_tt[:, 41] +resnet_x_tt[:, 42] +resnet_x_tt[:, 43]\n",
    "        cross_1_2 =resnet_x_tt[:, 1] / (resnet_x_tt[:, 2] + 1e-5)\n",
    "        feature_inp = np.concatenate((\n",
    "            resnet_x_tt,\n",
    "            np.array(cross_41_42_43).reshape(resnet_x_tt.shape[0], 1),\n",
    "            np.array(cross_1_2).reshape(resnet_x_tt.shape[0], 1),\n",
    "            ), axis=1)\n",
    "        resnet_pred = np.zeros((1, len(target_cols)))\n",
    "        for model in resnet_model_list:\n",
    "            resnet_pred += model(torch.tensor(feature_inp, dtype=torch.float).to(device)).sigmoid().detach().cpu().numpy() / 2\n",
    "        resnet_pred = np.median(resnet_pred)\n",
    "        #lgb_pred\n",
    "        test_df['feature_stock_id_sum'] = test_df['feature_41'] + test_df['feature_42'] + test_df['feature_43']\n",
    "        test_df['feature_1_2_cross'] = test_df['feature_1']/(test_df['feature_2']+1e-5)\n",
    "        test_df.fillna(-9999,inplace=True)\n",
    "        lgb_x_tt = test_df.loc[:, features].values\n",
    "        lgb_pred = np.median([model.predict(lgb_x_tt) for model in lgb_models])\n",
    "        # final_pred\n",
    "        final_pred=0.5*resnet_pred +0.5*lgb_pred # adjust weight\n",
    "        pred_df.action = np.where(final_pred >= 0.5, 1, 0).astype(int) # 0.499,0.501\n",
    "    else:\n",
    "        pred_df.action = 0\n",
    "    env.predict(pred_df)"
   ]
  },
  {
   "cell_type": "code",
   "execution_count": null,
   "metadata": {
    "papermill": {
     "duration": 0.78987,
     "end_time": "2021-02-14T07:01:09.220924",
     "exception": false,
     "start_time": "2021-02-14T07:01:08.431054",
     "status": "completed"
    },
    "tags": []
   },
   "outputs": [],
   "source": []
  }
 ],
 "metadata": {
  "kernelspec": {
   "display_name": "Python 3",
   "language": "python",
   "name": "python3"
  },
  "language_info": {
   "codemirror_mode": {
    "name": "ipython",
    "version": 3
   },
   "file_extension": ".py",
   "mimetype": "text/x-python",
   "name": "python",
   "nbconvert_exporter": "python",
   "pygments_lexer": "ipython3",
   "version": "3.7.3"
  },
  "papermill": {
   "default_parameters": {},
   "duration": 282.84773,
   "end_time": "2021-02-14T07:01:12.144889",
   "environment_variables": {},
   "exception": null,
   "input_path": "__notebook__.ipynb",
   "output_path": "__notebook__.ipynb",
   "parameters": {},
   "start_time": "2021-02-14T06:56:29.297159",
   "version": "2.2.2"
  }
 },
 "nbformat": 4,
 "nbformat_minor": 4
}
