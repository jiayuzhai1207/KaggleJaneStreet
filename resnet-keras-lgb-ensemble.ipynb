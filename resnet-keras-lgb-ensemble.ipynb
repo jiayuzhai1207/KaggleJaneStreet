{
 "cells": [
  {
   "cell_type": "code",
   "execution_count": 1,
   "metadata": {
    "_cell_guid": "b1076dfc-b9ad-4769-8c92-a6c4dae69d19",
    "_uuid": "8f2839f25d086af736a60e9eeb907d3b93b6e0e5",
    "execution": {
     "iopub.execute_input": "2021-02-15T01:42:27.821745Z",
     "iopub.status.busy": "2021-02-15T01:42:27.821103Z",
     "iopub.status.idle": "2021-02-15T01:42:27.825829Z",
     "shell.execute_reply": "2021-02-15T01:42:27.825132Z"
    },
    "papermill": {
     "duration": 0.024041,
     "end_time": "2021-02-15T01:42:27.826011",
     "exception": false,
     "start_time": "2021-02-15T01:42:27.801970",
     "status": "completed"
    },
    "tags": []
   },
   "outputs": [],
   "source": [
    "#resnet"
   ]
  },
  {
   "cell_type": "code",
   "execution_count": 2,
   "metadata": {
    "execution": {
     "iopub.execute_input": "2021-02-15T01:42:27.859773Z",
     "iopub.status.busy": "2021-02-15T01:42:27.859107Z",
     "iopub.status.idle": "2021-02-15T01:42:30.277095Z",
     "shell.execute_reply": "2021-02-15T01:42:30.275964Z"
    },
    "papermill": {
     "duration": 2.437361,
     "end_time": "2021-02-15T01:42:30.277254",
     "exception": false,
     "start_time": "2021-02-15T01:42:27.839893",
     "status": "completed"
    },
    "tags": []
   },
   "outputs": [],
   "source": [
    "import os\n",
    "import time\n",
    "import pickle\n",
    "import random\n",
    "import numpy as np\n",
    "import pandas as pd\n",
    "from tqdm import tqdm\n",
    "from sklearn.metrics import log_loss, roc_auc_score\n",
    "\n",
    "import torch\n",
    "import torch.nn as nn\n",
    "from torch.autograd import Variable\n",
    "from torch.utils.data import DataLoader\n",
    "from torch.nn import CrossEntropyLoss, MSELoss\n",
    "from torch.nn.modules.loss import _WeightedLoss\n",
    "import torch.nn.functional as F"
   ]
  },
  {
   "cell_type": "code",
   "execution_count": 3,
   "metadata": {
    "execution": {
     "iopub.execute_input": "2021-02-15T01:42:30.310436Z",
     "iopub.status.busy": "2021-02-15T01:42:30.309854Z",
     "iopub.status.idle": "2021-02-15T01:42:30.324529Z",
     "shell.execute_reply": "2021-02-15T01:42:30.324001Z"
    },
    "papermill": {
     "duration": 0.033448,
     "end_time": "2021-02-15T01:42:30.324683",
     "exception": false,
     "start_time": "2021-02-15T01:42:30.291235",
     "status": "completed"
    },
    "tags": []
   },
   "outputs": [],
   "source": [
    "NFOLDS = 5\n",
    "\n",
    "CACHE_PATH = '../input/modelfolder'\n",
    "\n",
    "feat_cols = [f'feature_{i}' for i in range(130)]\n",
    "\n",
    "target_cols = ['action', 'action_1', 'action_2', 'action_3', 'action_4']\n",
    "\n",
    "f_mean = np.load(f'{CACHE_PATH}/f_mean_online.npy')\n",
    "\n",
    "all_feat_cols = [col for col in feat_cols]\n",
    "all_feat_cols.extend(['cross_41_42_43', 'cross_1_2'])"
   ]
  },
  {
   "cell_type": "code",
   "execution_count": 4,
   "metadata": {
    "execution": {
     "iopub.execute_input": "2021-02-15T01:42:30.372588Z",
     "iopub.status.busy": "2021-02-15T01:42:30.370856Z",
     "iopub.status.idle": "2021-02-15T01:42:30.373337Z",
     "shell.execute_reply": "2021-02-15T01:42:30.373809Z"
    },
    "papermill": {
     "duration": 0.035155,
     "end_time": "2021-02-15T01:42:30.373957",
     "exception": false,
     "start_time": "2021-02-15T01:42:30.338802",
     "status": "completed"
    },
    "tags": []
   },
   "outputs": [],
   "source": [
    "class Model(nn.Module):\n",
    "    def __init__(self):\n",
    "        super(Model, self).__init__()\n",
    "        self.batch_norm0 = nn.BatchNorm1d(len(all_feat_cols))\n",
    "        self.dropout0 = nn.Dropout(xx)\n",
    "\n",
    "        dropout_rate = xx\n",
    "        hidden_size = xx\n",
    "        self.dense1 = nn.Linear(len(all_feat_cols), hidden_size)\n",
    "        self.batch_norm1 = nn.BatchNorm1d(hidden_size)\n",
    "        self.dropout1 = nn.Dropout(dropout_rate)\n",
    "\n",
    "        self.dense2 = nn.Linear(hidden_size+len(all_feat_cols), hidden_size)\n",
    "        self.batch_norm2 = nn.BatchNorm1d(hidden_size)\n",
    "        self.dropout2 = nn.Dropout(dropout_rate)\n",
    "\n",
    "        self.dense3 = nn.Linear(hidden_size+hidden_size, hidden_size)\n",
    "        self.batch_norm3 = nn.BatchNorm1d(hidden_size)\n",
    "        self.dropout3 = nn.Dropout(dropout_rate)\n",
    "\n",
    "        self.dense4 = nn.Linear(hidden_size+hidden_size, hidden_size)\n",
    "        self.batch_norm4 = nn.BatchNorm1d(hidden_size)\n",
    "        self.dropout4 = nn.Dropout(dropout_rate)\n",
    "\n",
    "        self.dense5 = nn.Linear(hidden_size+hidden_size, len(target_cols))\n",
    "\n",
    "        self.Relu = nn.ReLU(inplace=True)\n",
    "        self.PReLU = nn.PReLU()\n",
    "        self.LeakyReLU = nn.LeakyReLU(negative_slope=0.01, inplace=True)\n",
    "        self.RReLU = nn.RReLU()\n",
    "\n",
    "    def forward(self, x):\n",
    "        x = self.batch_norm0(x)\n",
    "        x = self.dropout0(x)\n",
    "\n",
    "        x1 = self.dense1(x)\n",
    "        x1 = self.batch_norm1(x1)\n",
    "        x1 = self.LeakyReLU(x1)\n",
    "        x1 = self.dropout1(x1)\n",
    "\n",
    "        x = torch.cat([x, x1], 1)\n",
    "\n",
    "        x2 = self.dense2(x)\n",
    "        x2 = self.batch_norm2(x2)\n",
    "        x2 = self.LeakyReLU(x2)\n",
    "        x2 = self.dropout2(x2)\n",
    "\n",
    "        x = torch.cat([x1, x2], 1)\n",
    "\n",
    "        x3 = self.dense3(x)\n",
    "        x3 = self.batch_norm3(x3)\n",
    "        x3 = self.LeakyReLU(x3)\n",
    "        x3 = self.dropout3(x3)\n",
    "\n",
    "        x = torch.cat([x2, x3], 1)\n",
    "\n",
    "        x4 = self.dense4(x)\n",
    "        x4 = self.batch_norm4(x4)\n",
    "        x4 = self.LeakyReLU(x4)\n",
    "        x4 = self.dropout4(x4)\n",
    "\n",
    "        x = torch.cat([x3, x4], 1)\n",
    "\n",
    "        x = self.dense5(x)\n",
    "\n",
    "        return x"
   ]
  },
  {
   "cell_type": "code",
   "execution_count": 5,
   "metadata": {
    "execution": {
     "iopub.execute_input": "2021-02-15T01:42:30.409473Z",
     "iopub.status.busy": "2021-02-15T01:42:30.408822Z",
     "iopub.status.idle": "2021-02-15T01:42:35.682005Z",
     "shell.execute_reply": "2021-02-15T01:42:35.681325Z"
    },
    "papermill": {
     "duration": 5.294112,
     "end_time": "2021-02-15T01:42:35.682209",
     "exception": false,
     "start_time": "2021-02-15T01:42:30.388097",
     "status": "completed"
    },
    "tags": []
   },
   "outputs": [],
   "source": [
    "device = torch.device(\"cuda:0\")\n",
    "resnet_model_list = []\n",
    "for _fold in range(NFOLDS):\n",
    "    torch.cuda.empty_cache()\n",
    "    model = Model()\n",
    "    model.to(device)\n",
    "    model_weights = f\"{CACHE_PATH}/online_model{_fold}.pth\"\n",
    "    model.load_state_dict(torch.load(model_weights))\n",
    "    model.eval()\n",
    "    resnet_model_list.append(model)"
   ]
  },
  {
   "cell_type": "code",
   "execution_count": 6,
   "metadata": {
    "execution": {
     "iopub.execute_input": "2021-02-15T01:42:35.719283Z",
     "iopub.status.busy": "2021-02-15T01:42:35.718360Z",
     "iopub.status.idle": "2021-02-15T01:42:35.721515Z",
     "shell.execute_reply": "2021-02-15T01:42:35.720982Z"
    },
    "papermill": {
     "duration": 0.023124,
     "end_time": "2021-02-15T01:42:35.721662",
     "exception": false,
     "start_time": "2021-02-15T01:42:35.698538",
     "status": "completed"
    },
    "tags": []
   },
   "outputs": [],
   "source": [
    "resnet_model_list=resnet_model_list[-2:]"
   ]
  },
  {
   "cell_type": "code",
   "execution_count": 7,
   "metadata": {
    "execution": {
     "iopub.execute_input": "2021-02-15T01:42:35.756297Z",
     "iopub.status.busy": "2021-02-15T01:42:35.755448Z",
     "iopub.status.idle": "2021-02-15T01:42:35.758469Z",
     "shell.execute_reply": "2021-02-15T01:42:35.757875Z"
    },
    "papermill": {
     "duration": 0.021619,
     "end_time": "2021-02-15T01:42:35.758580",
     "exception": false,
     "start_time": "2021-02-15T01:42:35.736961",
     "status": "completed"
    },
    "tags": []
   },
   "outputs": [],
   "source": [
    "#keras"
   ]
  },
  {
   "cell_type": "code",
   "execution_count": 8,
   "metadata": {
    "execution": {
     "iopub.execute_input": "2021-02-15T01:42:35.795282Z",
     "iopub.status.busy": "2021-02-15T01:42:35.794606Z",
     "iopub.status.idle": "2021-02-15T01:42:40.939702Z",
     "shell.execute_reply": "2021-02-15T01:42:40.938524Z"
    },
    "papermill": {
     "duration": 5.165939,
     "end_time": "2021-02-15T01:42:40.939866",
     "exception": false,
     "start_time": "2021-02-15T01:42:35.773927",
     "status": "completed"
    },
    "tags": []
   },
   "outputs": [],
   "source": [
    "from tensorflow.keras.layers import Input, Dense, BatchNormalization, Dropout, Concatenate, Lambda, GaussianNoise, Activation\n",
    "from tensorflow.keras.models import Model, Sequential\n",
    "from tensorflow.keras.losses import BinaryCrossentropy\n",
    "from tensorflow.keras.optimizers import Adam\n",
    "from tensorflow.keras.callbacks import EarlyStopping\n",
    "from tensorflow.keras.layers.experimental.preprocessing import Normalization\n",
    "import tensorflow as tf\n",
    "import numpy as np\n",
    "import pandas as pd\n",
    "from sklearn.model_selection import GroupKFold\n",
    "\n",
    "from tqdm import tqdm\n",
    "from random import choices\n",
    "import random\n",
    "\n",
    "import kerastuner as kt"
   ]
  },
  {
   "cell_type": "code",
   "execution_count": 9,
   "metadata": {
    "execution": {
     "iopub.execute_input": "2021-02-15T01:42:40.975822Z",
     "iopub.status.busy": "2021-02-15T01:42:40.974959Z",
     "iopub.status.idle": "2021-02-15T01:42:40.977452Z",
     "shell.execute_reply": "2021-02-15T01:42:40.977911Z"
    },
    "papermill": {
     "duration": 0.022248,
     "end_time": "2021-02-15T01:42:40.978069",
     "exception": false,
     "start_time": "2021-02-15T01:42:40.955821",
     "status": "completed"
    },
    "tags": []
   },
   "outputs": [],
   "source": [
    "keras_f_mean = np.load('../input/npyfolder/keras_f_mean_online.npy')"
   ]
  },
  {
   "cell_type": "code",
   "execution_count": 10,
   "metadata": {
    "execution": {
     "iopub.execute_input": "2021-02-15T01:42:41.019134Z",
     "iopub.status.busy": "2021-02-15T01:42:41.018390Z",
     "iopub.status.idle": "2021-02-15T01:42:41.021383Z",
     "shell.execute_reply": "2021-02-15T01:42:41.020925Z"
    },
    "papermill": {
     "duration": 0.028711,
     "end_time": "2021-02-15T01:42:41.021504",
     "exception": false,
     "start_time": "2021-02-15T01:42:40.992793",
     "status": "completed"
    },
    "tags": []
   },
   "outputs": [],
   "source": [
    "def create_autoencoder(input_dim,output_dim,noise=0.05):\n",
    "    i = Input(input_dim)\n",
    "    encoded = BatchNormalization()(i)\n",
    "    encoded = GaussianNoise(noise)(encoded)\n",
    "    encoded = Dense(64,activation='relu')(encoded)\n",
    "    decoded = Dropout(0.2)(encoded)\n",
    "    decoded = Dense(input_dim,name='decoded')(decoded)\n",
    "    x = Dense(32,activation='relu')(decoded)\n",
    "    x = BatchNormalization()(x)\n",
    "    x = Dropout(0.2)(x)\n",
    "    x = Dense(output_dim,activation='sigmoid',name='label_output')(x)\n",
    "    \n",
    "    encoder = Model(inputs=i,outputs=decoded)\n",
    "    autoencoder = Model(inputs=i,outputs=[decoded,x])\n",
    "    \n",
    "    autoencoder.compile(optimizer=Adam(0.001),loss={'decoded':'mse','label_output':'binary_crossentropy'})\n",
    "    return autoencoder, encoder"
   ]
  },
  {
   "cell_type": "code",
   "execution_count": 11,
   "metadata": {
    "execution": {
     "iopub.execute_input": "2021-02-15T01:42:41.060295Z",
     "iopub.status.busy": "2021-02-15T01:42:41.059526Z",
     "iopub.status.idle": "2021-02-15T01:42:41.062447Z",
     "shell.execute_reply": "2021-02-15T01:42:41.061896Z"
    },
    "papermill": {
     "duration": 0.025828,
     "end_time": "2021-02-15T01:42:41.062557",
     "exception": false,
     "start_time": "2021-02-15T01:42:41.036729",
     "status": "completed"
    },
    "tags": []
   },
   "outputs": [],
   "source": [
    "def create_model(hp,input_dim,output_dim,encoder):\n",
    "    inputs = Input(input_dim)\n",
    "    \n",
    "    x = encoder(inputs)\n",
    "    x = Concatenate()([x,inputs]) #use both raw and encoded features\n",
    "    x = BatchNormalization()(x)\n",
    "    x = Dropout(hp.Float('init_dropout',0.0,0.5))(x)\n",
    "    \n",
    "    for i in range(hp.Int('num_layers',1,3)):\n",
    "        x = Dense(hp.Int(f'num_units_{i}',64,256))(x) #f\n",
    "        x = BatchNormalization()(x)\n",
    "        x = Lambda(tf.keras.activations.swish)(x)\n",
    "        x = Dropout(hp.Float(f'dropout_{i}',0.0,0.5))(x)\n",
    "    x = Dense(output_dim,activation='sigmoid')(x)\n",
    "    model = Model(inputs=inputs,outputs=x)\n",
    "    model.compile(optimizer=Adam(hp.Float('lr',0.00001,0.1,default=0.001)),loss=BinaryCrossentropy(label_smoothing=hp.Float('label_smoothing',0.0,0.1)),metrics=[tf.keras.metrics.AUC(name = 'auc')])\n",
    "    return model"
   ]
  },
  {
   "cell_type": "code",
   "execution_count": 12,
   "metadata": {
    "execution": {
     "iopub.execute_input": "2021-02-15T01:42:41.095917Z",
     "iopub.status.busy": "2021-02-15T01:42:41.095296Z",
     "iopub.status.idle": "2021-02-15T01:42:43.569541Z",
     "shell.execute_reply": "2021-02-15T01:42:43.568480Z"
    },
    "papermill": {
     "duration": 2.492431,
     "end_time": "2021-02-15T01:42:43.569713",
     "exception": false,
     "start_time": "2021-02-15T01:42:41.077282",
     "status": "completed"
    },
    "tags": []
   },
   "outputs": [],
   "source": [
    "autoencoder, encoder = create_autoencoder(130,5,noise=0.1) \n",
    "encoder.load_weights('../input/modelfolder/encoder.hdf5')\n",
    "encoder.trainable = False"
   ]
  },
  {
   "cell_type": "code",
   "execution_count": 13,
   "metadata": {
    "execution": {
     "iopub.execute_input": "2021-02-15T01:42:43.606398Z",
     "iopub.status.busy": "2021-02-15T01:42:43.605700Z",
     "iopub.status.idle": "2021-02-15T01:42:44.507326Z",
     "shell.execute_reply": "2021-02-15T01:42:44.506237Z"
    },
    "papermill": {
     "duration": 0.922344,
     "end_time": "2021-02-15T01:42:44.507485",
     "exception": false,
     "start_time": "2021-02-15T01:42:43.585141",
     "status": "completed"
    },
    "tags": []
   },
   "outputs": [],
   "source": [
    "model_fn = lambda hp: create_model(hp,130,5,encoder)\n",
    "\n",
    "FOLDS = xx\n",
    "SEED = xx\n",
    "\n",
    "keras_models = []\n",
    "hp = pd.read_pickle(f'../input/modelfolder/best_hp_{SEED}.pkl')\n",
    "for f in range(FOLDS):\n",
    "    model = model_fn(hp)\n",
    "    model.load_weights(f'../input/modelfolder/model_{SEED}_{f}_finetune.hdf5')\n",
    "    keras_models.append(model)"
   ]
  },
  {
   "cell_type": "code",
   "execution_count": 14,
   "metadata": {
    "execution": {
     "iopub.execute_input": "2021-02-15T01:42:44.544231Z",
     "iopub.status.busy": "2021-02-15T01:42:44.542580Z",
     "iopub.status.idle": "2021-02-15T01:42:44.544945Z",
     "shell.execute_reply": "2021-02-15T01:42:44.545403Z"
    },
    "papermill": {
     "duration": 0.022221,
     "end_time": "2021-02-15T01:42:44.545556",
     "exception": false,
     "start_time": "2021-02-15T01:42:44.523335",
     "status": "completed"
    },
    "tags": []
   },
   "outputs": [],
   "source": [
    "keras_model= keras_models[-1]\n",
    "# keras_model= keras_models[-2]"
   ]
  },
  {
   "cell_type": "code",
   "execution_count": 15,
   "metadata": {
    "execution": {
     "iopub.execute_input": "2021-02-15T01:42:44.580900Z",
     "iopub.status.busy": "2021-02-15T01:42:44.580187Z",
     "iopub.status.idle": "2021-02-15T01:42:44.681938Z",
     "shell.execute_reply": "2021-02-15T01:42:44.681430Z"
    },
    "papermill": {
     "duration": 0.121373,
     "end_time": "2021-02-15T01:42:44.682068",
     "exception": false,
     "start_time": "2021-02-15T01:42:44.560695",
     "status": "completed"
    },
    "tags": []
   },
   "outputs": [
    {
     "data": {
      "text/html": [
       "<style type='text/css'>\n",
       ".datatable table.frame { margin-bottom: 0; }\n",
       ".datatable table.frame thead { border-bottom: none; }\n",
       ".datatable table.frame tr.coltypes td {  color: #FFFFFF;  line-height: 6px;  padding: 0 0.5em;}\n",
       ".datatable .bool    { background: #DDDD99; }\n",
       ".datatable .object  { background: #565656; }\n",
       ".datatable .int     { background: #5D9E5D; }\n",
       ".datatable .float   { background: #4040CC; }\n",
       ".datatable .str     { background: #CC4040; }\n",
       ".datatable .row_index {  background: var(--jp-border-color3);  border-right: 1px solid var(--jp-border-color0);  color: var(--jp-ui-font-color3);  font-size: 9px;}\n",
       ".datatable .frame tr.coltypes .row_index {  background: var(--jp-border-color0);}\n",
       ".datatable th:nth-child(2) { padding-left: 12px; }\n",
       ".datatable .hellipsis {  color: var(--jp-cell-editor-border-color);}\n",
       ".datatable .vellipsis {  background: var(--jp-layout-color0);  color: var(--jp-cell-editor-border-color);}\n",
       ".datatable .na {  color: var(--jp-cell-editor-border-color);  font-size: 80%;}\n",
       ".datatable .footer { font-size: 9px; }\n",
       ".datatable .frame_dimensions {  background: var(--jp-border-color3);  border-top: 1px solid var(--jp-border-color0);  color: var(--jp-ui-font-color3);  display: inline-block;  opacity: 0.6;  padding: 1px 10px 1px 5px;}\n",
       "</style>\n"
      ],
      "text/plain": [
       "<IPython.core.display.HTML object>"
      ]
     },
     "metadata": {},
     "output_type": "display_data"
    }
   ],
   "source": [
    "#lgb\n",
    "import random\n",
    "import numpy as np\n",
    "import pandas as pd\n",
    "from tqdm import tqdm\n",
    "from random import choices\n",
    "from sklearn.model_selection import train_test_split\n",
    "import lightgbm as lgbm"
   ]
  },
  {
   "cell_type": "code",
   "execution_count": 16,
   "metadata": {
    "execution": {
     "iopub.execute_input": "2021-02-15T01:42:44.720388Z",
     "iopub.status.busy": "2021-02-15T01:42:44.719775Z",
     "iopub.status.idle": "2021-02-15T01:42:44.723817Z",
     "shell.execute_reply": "2021-02-15T01:42:44.723309Z"
    },
    "papermill": {
     "duration": 0.024645,
     "end_time": "2021-02-15T01:42:44.723944",
     "exception": false,
     "start_time": "2021-02-15T01:42:44.699299",
     "status": "completed"
    },
    "tags": []
   },
   "outputs": [],
   "source": [
    "features = [col for col in feat_cols]\n",
    "features.extend(['feature_stock_id_sum', 'feature_1_2_cross'])"
   ]
  },
  {
   "cell_type": "code",
   "execution_count": 17,
   "metadata": {
    "execution": {
     "iopub.execute_input": "2021-02-15T01:42:44.762920Z",
     "iopub.status.busy": "2021-02-15T01:42:44.762267Z",
     "iopub.status.idle": "2021-02-15T01:42:46.006066Z",
     "shell.execute_reply": "2021-02-15T01:42:46.004402Z"
    },
    "papermill": {
     "duration": 1.264986,
     "end_time": "2021-02-15T01:42:46.006218",
     "exception": false,
     "start_time": "2021-02-15T01:42:44.741232",
     "status": "completed"
    },
    "tags": []
   },
   "outputs": [],
   "source": [
    "import os, sys, gc, time, warnings, pickle, psutil, random\n",
    "lgb_models = []\n",
    "for i in range(5):\n",
    "    model_path = '../input/modelfolder/lgb_model_'+str(i)+'.bin' \n",
    "    clf = pickle.load(open(model_path, 'rb'))\n",
    "    lgb_models.append(clf)"
   ]
  },
  {
   "cell_type": "code",
   "execution_count": 18,
   "metadata": {
    "execution": {
     "iopub.execute_input": "2021-02-15T01:42:46.045399Z",
     "iopub.status.busy": "2021-02-15T01:42:46.044755Z",
     "iopub.status.idle": "2021-02-15T01:42:46.068492Z",
     "shell.execute_reply": "2021-02-15T01:42:46.068953Z"
    },
    "papermill": {
     "duration": 0.045356,
     "end_time": "2021-02-15T01:42:46.069099",
     "exception": false,
     "start_time": "2021-02-15T01:42:46.023743",
     "status": "completed"
    },
    "tags": []
   },
   "outputs": [],
   "source": [
    "import janestreet\n",
    "env = janestreet.make_env()\n",
    "env_iter = env.iter_test()"
   ]
  },
  {
   "cell_type": "code",
   "execution_count": 19,
   "metadata": {
    "execution": {
     "iopub.execute_input": "2021-02-15T01:42:46.107684Z",
     "iopub.status.busy": "2021-02-15T01:42:46.105943Z",
     "iopub.status.idle": "2021-02-15T01:42:46.108349Z",
     "shell.execute_reply": "2021-02-15T01:42:46.108813Z"
    },
    "papermill": {
     "duration": 0.023681,
     "end_time": "2021-02-15T01:42:46.108957",
     "exception": false,
     "start_time": "2021-02-15T01:42:46.085276",
     "status": "completed"
    },
    "tags": []
   },
   "outputs": [],
   "source": [
    "test_df_columns = ['weight'] + [f'feature_{i}' for i in range(130)] + ['date']\n",
    "index_features = [n for n, col in enumerate(test_df_columns) if col in feat_cols]"
   ]
  },
  {
   "cell_type": "code",
   "execution_count": 20,
   "metadata": {
    "execution": {
     "iopub.execute_input": "2021-02-15T01:42:46.147591Z",
     "iopub.status.busy": "2021-02-15T01:42:46.146977Z",
     "iopub.status.idle": "2021-02-15T01:47:47.708208Z",
     "shell.execute_reply": "2021-02-15T01:47:47.707514Z"
    },
    "papermill": {
     "duration": 301.582914,
     "end_time": "2021-02-15T01:47:47.708356",
     "exception": false,
     "start_time": "2021-02-15T01:42:46.125442",
     "status": "completed"
    },
    "tags": []
   },
   "outputs": [
    {
     "name": "stderr",
     "output_type": "stream",
     "text": [
      "15219it [05:01, 50.47it/s]\n"
     ]
    }
   ],
   "source": [
    "import gc\n",
    "for (test_df, pred_df) in tqdm(env_iter):\n",
    "    if test_df['weight'].values[0]>0:\n",
    "        #resnet\n",
    "        resnet_x_tt = test_df.values[0][index_features].reshape(1, -1)\n",
    "        if np.isnan(resnet_x_tt.sum()):\n",
    "            resnet_x_tt = np.nan_to_num(resnet_x_tt) + np.isnan(resnet_x_tt) * f_mean\n",
    "        cross_41_42_43 =resnet_x_tt[:, 41] +resnet_x_tt[:, 42] +resnet_x_tt[:, 43]\n",
    "        cross_1_2 =resnet_x_tt[:, 1] / (resnet_x_tt[:, 2] + 1e-5)\n",
    "        feature_inp = np.concatenate((\n",
    "            resnet_x_tt,\n",
    "            np.array(cross_41_42_43).reshape(resnet_x_tt.shape[0], 1),\n",
    "            np.array(cross_1_2).reshape(resnet_x_tt.shape[0], 1),\n",
    "            ), axis=1)\n",
    "        resnet_pred = np.zeros((1, len(target_cols)))\n",
    "        for model in resnet_model_list:\n",
    "            resnet_pred += model(torch.tensor(feature_inp, dtype=torch.float).to(device)).sigmoid().detach().cpu().numpy() / 2\n",
    "        resnet_pred = np.median(resnet_pred)\n",
    "        #keras\n",
    "        keras_x_tt = test_df.values[0][index_features].reshape(1, -1)\n",
    "        if np.isnan(keras_x_tt.sum()):\n",
    "            keras_x_tt = np.nan_to_num(keras_x_tt) + np.isnan(keras_x_tt) * keras_f_mean\n",
    "        keras_pred = keras_model(keras_x_tt, training = False).numpy() \n",
    "        keras_pred =  np.median(keras_pred)\n",
    "        #lgb_pred\n",
    "        test_df['feature_stock_id_sum'] = test_df['feature_41'] + test_df['feature_42'] + test_df['feature_43']\n",
    "        test_df['feature_1_2_cross'] = test_df['feature_1']/(test_df['feature_2']+1e-5)\n",
    "        test_df.fillna(-9999,inplace=True)\n",
    "        lgb_x_tt = test_df.loc[:, features].values\n",
    "        lgb_pred = np.median([model.predict(lgb_x_tt) for model in lgb_models])\n",
    "        # final_pred\n",
    "        final_pred=0.4*resnet_pred +0.4*keras_pred+0.2*lgb_pred # try different weight\n",
    "        pred_df.action = int(final_pred >= 0.5) #0.499,0.501\n",
    "    else:\n",
    "        pred_df['action'].values[0] = 0\n",
    "    env.predict(pred_df)"
   ]
  },
  {
   "cell_type": "code",
   "execution_count": null,
   "metadata": {
    "papermill": {
     "duration": 0.809841,
     "end_time": "2021-02-15T01:47:49.330295",
     "exception": false,
     "start_time": "2021-02-15T01:47:48.520454",
     "status": "completed"
    },
    "tags": []
   },
   "outputs": [],
   "source": []
  }
 ],
 "metadata": {
  "kernelspec": {
   "display_name": "Python 3",
   "language": "python",
   "name": "python3"
  },
  "language_info": {
   "codemirror_mode": {
    "name": "ipython",
    "version": 3
   },
   "file_extension": ".py",
   "mimetype": "text/x-python",
   "name": "python",
   "nbconvert_exporter": "python",
   "pygments_lexer": "ipython3",
   "version": "3.7.3"
  },
  "papermill": {
   "default_parameters": {},
   "duration": 330.927134,
   "end_time": "2021-02-15T01:47:53.187955",
   "environment_variables": {},
   "exception": null,
   "input_path": "__notebook__.ipynb",
   "output_path": "__notebook__.ipynb",
   "parameters": {},
   "start_time": "2021-02-15T01:42:22.260821",
   "version": "2.2.2"
  }
 },
 "nbformat": 4,
 "nbformat_minor": 4
}
